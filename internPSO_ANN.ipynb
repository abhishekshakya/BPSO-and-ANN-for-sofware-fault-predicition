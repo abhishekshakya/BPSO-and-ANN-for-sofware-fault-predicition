{
  "nbformat": 4,
  "nbformat_minor": 0,
  "metadata": {
    "colab": {
      "name": "internPSO_ANN.ipynb",
      "provenance": [],
      "authorship_tag": "ABX9TyPivg5/WDtZr5h3VxghEEXI",
      "include_colab_link": true
    },
    "kernelspec": {
      "name": "python3",
      "display_name": "Python 3"
    },
    "widgets": {
      "application/vnd.jupyter.widget-state+json": {
        "59aaa6fc736e4f1da27cb0e5cadf6567": {
          "model_module": "@jupyter-widgets/controls",
          "model_name": "HBoxModel",
          "state": {
            "_view_name": "HBoxView",
            "_dom_classes": [],
            "_model_name": "HBoxModel",
            "_view_module": "@jupyter-widgets/controls",
            "_model_module_version": "1.5.0",
            "_view_count": null,
            "_view_module_version": "1.5.0",
            "box_style": "",
            "layout": "IPY_MODEL_6a53f1cce9974490b1d08d6d4d365de2",
            "_model_module": "@jupyter-widgets/controls",
            "children": [
              "IPY_MODEL_28239231edf94ef1b1384825fbe76632",
              "IPY_MODEL_1f9e52a644b84330bc481549c3a67817"
            ]
          }
        },
        "6a53f1cce9974490b1d08d6d4d365de2": {
          "model_module": "@jupyter-widgets/base",
          "model_name": "LayoutModel",
          "state": {
            "_view_name": "LayoutView",
            "grid_template_rows": null,
            "right": null,
            "justify_content": null,
            "_view_module": "@jupyter-widgets/base",
            "overflow": null,
            "_model_module_version": "1.2.0",
            "_view_count": null,
            "flex_flow": null,
            "width": null,
            "min_width": null,
            "border": null,
            "align_items": null,
            "bottom": null,
            "_model_module": "@jupyter-widgets/base",
            "top": null,
            "grid_column": null,
            "overflow_y": null,
            "overflow_x": null,
            "grid_auto_flow": null,
            "grid_area": null,
            "grid_template_columns": null,
            "flex": null,
            "_model_name": "LayoutModel",
            "justify_items": null,
            "grid_row": null,
            "max_height": null,
            "align_content": null,
            "visibility": null,
            "align_self": null,
            "height": null,
            "min_height": null,
            "padding": null,
            "grid_auto_rows": null,
            "grid_gap": null,
            "max_width": null,
            "order": null,
            "_view_module_version": "1.2.0",
            "grid_template_areas": null,
            "object_position": null,
            "object_fit": null,
            "grid_auto_columns": null,
            "margin": null,
            "display": null,
            "left": null
          }
        },
        "28239231edf94ef1b1384825fbe76632": {
          "model_module": "@jupyter-widgets/controls",
          "model_name": "FloatProgressModel",
          "state": {
            "_view_name": "ProgressView",
            "style": "IPY_MODEL_e3a9bfe3fa334753b1a4ca8053f46245",
            "_dom_classes": [],
            "description": "100%",
            "_model_name": "FloatProgressModel",
            "bar_style": "success",
            "max": 30,
            "_view_module": "@jupyter-widgets/controls",
            "_model_module_version": "1.5.0",
            "value": 30,
            "_view_count": null,
            "_view_module_version": "1.5.0",
            "orientation": "horizontal",
            "min": 0,
            "description_tooltip": null,
            "_model_module": "@jupyter-widgets/controls",
            "layout": "IPY_MODEL_dd5a66aed912441cb4b4092c154d77b5"
          }
        },
        "1f9e52a644b84330bc481549c3a67817": {
          "model_module": "@jupyter-widgets/controls",
          "model_name": "HTMLModel",
          "state": {
            "_view_name": "HTMLView",
            "style": "IPY_MODEL_d12262428ab84d63a05e11b7ba32e791",
            "_dom_classes": [],
            "description": "",
            "_model_name": "HTMLModel",
            "placeholder": "​",
            "_view_module": "@jupyter-widgets/controls",
            "_model_module_version": "1.5.0",
            "value": " 30/30 [22:20&lt;00:00, 44.68s/it]",
            "_view_count": null,
            "_view_module_version": "1.5.0",
            "description_tooltip": null,
            "_model_module": "@jupyter-widgets/controls",
            "layout": "IPY_MODEL_8dcf30ddc60d4f13a2903e395e03f2bf"
          }
        },
        "e3a9bfe3fa334753b1a4ca8053f46245": {
          "model_module": "@jupyter-widgets/controls",
          "model_name": "ProgressStyleModel",
          "state": {
            "_view_name": "StyleView",
            "_model_name": "ProgressStyleModel",
            "description_width": "initial",
            "_view_module": "@jupyter-widgets/base",
            "_model_module_version": "1.5.0",
            "_view_count": null,
            "_view_module_version": "1.2.0",
            "bar_color": null,
            "_model_module": "@jupyter-widgets/controls"
          }
        },
        "dd5a66aed912441cb4b4092c154d77b5": {
          "model_module": "@jupyter-widgets/base",
          "model_name": "LayoutModel",
          "state": {
            "_view_name": "LayoutView",
            "grid_template_rows": null,
            "right": null,
            "justify_content": null,
            "_view_module": "@jupyter-widgets/base",
            "overflow": null,
            "_model_module_version": "1.2.0",
            "_view_count": null,
            "flex_flow": null,
            "width": null,
            "min_width": null,
            "border": null,
            "align_items": null,
            "bottom": null,
            "_model_module": "@jupyter-widgets/base",
            "top": null,
            "grid_column": null,
            "overflow_y": null,
            "overflow_x": null,
            "grid_auto_flow": null,
            "grid_area": null,
            "grid_template_columns": null,
            "flex": null,
            "_model_name": "LayoutModel",
            "justify_items": null,
            "grid_row": null,
            "max_height": null,
            "align_content": null,
            "visibility": null,
            "align_self": null,
            "height": null,
            "min_height": null,
            "padding": null,
            "grid_auto_rows": null,
            "grid_gap": null,
            "max_width": null,
            "order": null,
            "_view_module_version": "1.2.0",
            "grid_template_areas": null,
            "object_position": null,
            "object_fit": null,
            "grid_auto_columns": null,
            "margin": null,
            "display": null,
            "left": null
          }
        },
        "d12262428ab84d63a05e11b7ba32e791": {
          "model_module": "@jupyter-widgets/controls",
          "model_name": "DescriptionStyleModel",
          "state": {
            "_view_name": "StyleView",
            "_model_name": "DescriptionStyleModel",
            "description_width": "",
            "_view_module": "@jupyter-widgets/base",
            "_model_module_version": "1.5.0",
            "_view_count": null,
            "_view_module_version": "1.2.0",
            "_model_module": "@jupyter-widgets/controls"
          }
        },
        "8dcf30ddc60d4f13a2903e395e03f2bf": {
          "model_module": "@jupyter-widgets/base",
          "model_name": "LayoutModel",
          "state": {
            "_view_name": "LayoutView",
            "grid_template_rows": null,
            "right": null,
            "justify_content": null,
            "_view_module": "@jupyter-widgets/base",
            "overflow": null,
            "_model_module_version": "1.2.0",
            "_view_count": null,
            "flex_flow": null,
            "width": null,
            "min_width": null,
            "border": null,
            "align_items": null,
            "bottom": null,
            "_model_module": "@jupyter-widgets/base",
            "top": null,
            "grid_column": null,
            "overflow_y": null,
            "overflow_x": null,
            "grid_auto_flow": null,
            "grid_area": null,
            "grid_template_columns": null,
            "flex": null,
            "_model_name": "LayoutModel",
            "justify_items": null,
            "grid_row": null,
            "max_height": null,
            "align_content": null,
            "visibility": null,
            "align_self": null,
            "height": null,
            "min_height": null,
            "padding": null,
            "grid_auto_rows": null,
            "grid_gap": null,
            "max_width": null,
            "order": null,
            "_view_module_version": "1.2.0",
            "grid_template_areas": null,
            "object_position": null,
            "object_fit": null,
            "grid_auto_columns": null,
            "margin": null,
            "display": null,
            "left": null
          }
        },
        "c51cf9564d2e40c48c82a9231370736a": {
          "model_module": "@jupyter-widgets/controls",
          "model_name": "HBoxModel",
          "state": {
            "_view_name": "HBoxView",
            "_dom_classes": [],
            "_model_name": "HBoxModel",
            "_view_module": "@jupyter-widgets/controls",
            "_model_module_version": "1.5.0",
            "_view_count": null,
            "_view_module_version": "1.5.0",
            "box_style": "",
            "layout": "IPY_MODEL_d94234db81b64a32aee8e52f9889279e",
            "_model_module": "@jupyter-widgets/controls",
            "children": [
              "IPY_MODEL_a46479a4e30b4860beef11e8c36f6cf7",
              "IPY_MODEL_ba6ffad22ce648feb8c8b81ee11fe3cc"
            ]
          }
        },
        "d94234db81b64a32aee8e52f9889279e": {
          "model_module": "@jupyter-widgets/base",
          "model_name": "LayoutModel",
          "state": {
            "_view_name": "LayoutView",
            "grid_template_rows": null,
            "right": null,
            "justify_content": null,
            "_view_module": "@jupyter-widgets/base",
            "overflow": null,
            "_model_module_version": "1.2.0",
            "_view_count": null,
            "flex_flow": null,
            "width": null,
            "min_width": null,
            "border": null,
            "align_items": null,
            "bottom": null,
            "_model_module": "@jupyter-widgets/base",
            "top": null,
            "grid_column": null,
            "overflow_y": null,
            "overflow_x": null,
            "grid_auto_flow": null,
            "grid_area": null,
            "grid_template_columns": null,
            "flex": null,
            "_model_name": "LayoutModel",
            "justify_items": null,
            "grid_row": null,
            "max_height": null,
            "align_content": null,
            "visibility": null,
            "align_self": null,
            "height": null,
            "min_height": null,
            "padding": null,
            "grid_auto_rows": null,
            "grid_gap": null,
            "max_width": null,
            "order": null,
            "_view_module_version": "1.2.0",
            "grid_template_areas": null,
            "object_position": null,
            "object_fit": null,
            "grid_auto_columns": null,
            "margin": null,
            "display": null,
            "left": null
          }
        },
        "a46479a4e30b4860beef11e8c36f6cf7": {
          "model_module": "@jupyter-widgets/controls",
          "model_name": "FloatProgressModel",
          "state": {
            "_view_name": "ProgressView",
            "style": "IPY_MODEL_b27c8bde448e48c5b8112cb24550c264",
            "_dom_classes": [],
            "description": "100%",
            "_model_name": "FloatProgressModel",
            "bar_style": "success",
            "max": 30,
            "_view_module": "@jupyter-widgets/controls",
            "_model_module_version": "1.5.0",
            "value": 30,
            "_view_count": null,
            "_view_module_version": "1.5.0",
            "orientation": "horizontal",
            "min": 0,
            "description_tooltip": null,
            "_model_module": "@jupyter-widgets/controls",
            "layout": "IPY_MODEL_070a53e0cb9a4770939e58faa37888a5"
          }
        },
        "ba6ffad22ce648feb8c8b81ee11fe3cc": {
          "model_module": "@jupyter-widgets/controls",
          "model_name": "HTMLModel",
          "state": {
            "_view_name": "HTMLView",
            "style": "IPY_MODEL_80d482b85930410798b1ff802b26628d",
            "_dom_classes": [],
            "description": "",
            "_model_name": "HTMLModel",
            "placeholder": "​",
            "_view_module": "@jupyter-widgets/controls",
            "_model_module_version": "1.5.0",
            "value": " 30/30 [14:56&lt;00:00, 29.89s/it]",
            "_view_count": null,
            "_view_module_version": "1.5.0",
            "description_tooltip": null,
            "_model_module": "@jupyter-widgets/controls",
            "layout": "IPY_MODEL_fe7ed38cd4994256a3a5a4cce8642cba"
          }
        },
        "b27c8bde448e48c5b8112cb24550c264": {
          "model_module": "@jupyter-widgets/controls",
          "model_name": "ProgressStyleModel",
          "state": {
            "_view_name": "StyleView",
            "_model_name": "ProgressStyleModel",
            "description_width": "initial",
            "_view_module": "@jupyter-widgets/base",
            "_model_module_version": "1.5.0",
            "_view_count": null,
            "_view_module_version": "1.2.0",
            "bar_color": null,
            "_model_module": "@jupyter-widgets/controls"
          }
        },
        "070a53e0cb9a4770939e58faa37888a5": {
          "model_module": "@jupyter-widgets/base",
          "model_name": "LayoutModel",
          "state": {
            "_view_name": "LayoutView",
            "grid_template_rows": null,
            "right": null,
            "justify_content": null,
            "_view_module": "@jupyter-widgets/base",
            "overflow": null,
            "_model_module_version": "1.2.0",
            "_view_count": null,
            "flex_flow": null,
            "width": null,
            "min_width": null,
            "border": null,
            "align_items": null,
            "bottom": null,
            "_model_module": "@jupyter-widgets/base",
            "top": null,
            "grid_column": null,
            "overflow_y": null,
            "overflow_x": null,
            "grid_auto_flow": null,
            "grid_area": null,
            "grid_template_columns": null,
            "flex": null,
            "_model_name": "LayoutModel",
            "justify_items": null,
            "grid_row": null,
            "max_height": null,
            "align_content": null,
            "visibility": null,
            "align_self": null,
            "height": null,
            "min_height": null,
            "padding": null,
            "grid_auto_rows": null,
            "grid_gap": null,
            "max_width": null,
            "order": null,
            "_view_module_version": "1.2.0",
            "grid_template_areas": null,
            "object_position": null,
            "object_fit": null,
            "grid_auto_columns": null,
            "margin": null,
            "display": null,
            "left": null
          }
        },
        "80d482b85930410798b1ff802b26628d": {
          "model_module": "@jupyter-widgets/controls",
          "model_name": "DescriptionStyleModel",
          "state": {
            "_view_name": "StyleView",
            "_model_name": "DescriptionStyleModel",
            "description_width": "",
            "_view_module": "@jupyter-widgets/base",
            "_model_module_version": "1.5.0",
            "_view_count": null,
            "_view_module_version": "1.2.0",
            "_model_module": "@jupyter-widgets/controls"
          }
        },
        "fe7ed38cd4994256a3a5a4cce8642cba": {
          "model_module": "@jupyter-widgets/base",
          "model_name": "LayoutModel",
          "state": {
            "_view_name": "LayoutView",
            "grid_template_rows": null,
            "right": null,
            "justify_content": null,
            "_view_module": "@jupyter-widgets/base",
            "overflow": null,
            "_model_module_version": "1.2.0",
            "_view_count": null,
            "flex_flow": null,
            "width": null,
            "min_width": null,
            "border": null,
            "align_items": null,
            "bottom": null,
            "_model_module": "@jupyter-widgets/base",
            "top": null,
            "grid_column": null,
            "overflow_y": null,
            "overflow_x": null,
            "grid_auto_flow": null,
            "grid_area": null,
            "grid_template_columns": null,
            "flex": null,
            "_model_name": "LayoutModel",
            "justify_items": null,
            "grid_row": null,
            "max_height": null,
            "align_content": null,
            "visibility": null,
            "align_self": null,
            "height": null,
            "min_height": null,
            "padding": null,
            "grid_auto_rows": null,
            "grid_gap": null,
            "max_width": null,
            "order": null,
            "_view_module_version": "1.2.0",
            "grid_template_areas": null,
            "object_position": null,
            "object_fit": null,
            "grid_auto_columns": null,
            "margin": null,
            "display": null,
            "left": null
          }
        },
        "67b48826cad74b7c8d43509c7d201c13": {
          "model_module": "@jupyter-widgets/controls",
          "model_name": "HBoxModel",
          "state": {
            "_view_name": "HBoxView",
            "_dom_classes": [],
            "_model_name": "HBoxModel",
            "_view_module": "@jupyter-widgets/controls",
            "_model_module_version": "1.5.0",
            "_view_count": null,
            "_view_module_version": "1.5.0",
            "box_style": "",
            "layout": "IPY_MODEL_b720a54ef2e24e7798e4f9f01d0d4670",
            "_model_module": "@jupyter-widgets/controls",
            "children": [
              "IPY_MODEL_f5b9e54b7a3e4144b67d3c7180084ab7",
              "IPY_MODEL_331fc650677a4e6cb2829f34ecc188e9"
            ]
          }
        },
        "b720a54ef2e24e7798e4f9f01d0d4670": {
          "model_module": "@jupyter-widgets/base",
          "model_name": "LayoutModel",
          "state": {
            "_view_name": "LayoutView",
            "grid_template_rows": null,
            "right": null,
            "justify_content": null,
            "_view_module": "@jupyter-widgets/base",
            "overflow": null,
            "_model_module_version": "1.2.0",
            "_view_count": null,
            "flex_flow": null,
            "width": null,
            "min_width": null,
            "border": null,
            "align_items": null,
            "bottom": null,
            "_model_module": "@jupyter-widgets/base",
            "top": null,
            "grid_column": null,
            "overflow_y": null,
            "overflow_x": null,
            "grid_auto_flow": null,
            "grid_area": null,
            "grid_template_columns": null,
            "flex": null,
            "_model_name": "LayoutModel",
            "justify_items": null,
            "grid_row": null,
            "max_height": null,
            "align_content": null,
            "visibility": null,
            "align_self": null,
            "height": null,
            "min_height": null,
            "padding": null,
            "grid_auto_rows": null,
            "grid_gap": null,
            "max_width": null,
            "order": null,
            "_view_module_version": "1.2.0",
            "grid_template_areas": null,
            "object_position": null,
            "object_fit": null,
            "grid_auto_columns": null,
            "margin": null,
            "display": null,
            "left": null
          }
        },
        "f5b9e54b7a3e4144b67d3c7180084ab7": {
          "model_module": "@jupyter-widgets/controls",
          "model_name": "FloatProgressModel",
          "state": {
            "_view_name": "ProgressView",
            "style": "IPY_MODEL_e852d33397614d1a83468a5f340e1df6",
            "_dom_classes": [],
            "description": "100%",
            "_model_name": "FloatProgressModel",
            "bar_style": "success",
            "max": 30,
            "_view_module": "@jupyter-widgets/controls",
            "_model_module_version": "1.5.0",
            "value": 30,
            "_view_count": null,
            "_view_module_version": "1.5.0",
            "orientation": "horizontal",
            "min": 0,
            "description_tooltip": null,
            "_model_module": "@jupyter-widgets/controls",
            "layout": "IPY_MODEL_84f2ae5c8f894d89ab8fb83c341fec1c"
          }
        },
        "331fc650677a4e6cb2829f34ecc188e9": {
          "model_module": "@jupyter-widgets/controls",
          "model_name": "HTMLModel",
          "state": {
            "_view_name": "HTMLView",
            "style": "IPY_MODEL_91b7e73c422e4083a46f1705f34e61e3",
            "_dom_classes": [],
            "description": "",
            "_model_name": "HTMLModel",
            "placeholder": "​",
            "_view_module": "@jupyter-widgets/controls",
            "_model_module_version": "1.5.0",
            "value": " 30/30 [06:11&lt;00:00, 12.38s/it]",
            "_view_count": null,
            "_view_module_version": "1.5.0",
            "description_tooltip": null,
            "_model_module": "@jupyter-widgets/controls",
            "layout": "IPY_MODEL_af751022925b45b4b9496f458e1f9c0b"
          }
        },
        "e852d33397614d1a83468a5f340e1df6": {
          "model_module": "@jupyter-widgets/controls",
          "model_name": "ProgressStyleModel",
          "state": {
            "_view_name": "StyleView",
            "_model_name": "ProgressStyleModel",
            "description_width": "initial",
            "_view_module": "@jupyter-widgets/base",
            "_model_module_version": "1.5.0",
            "_view_count": null,
            "_view_module_version": "1.2.0",
            "bar_color": null,
            "_model_module": "@jupyter-widgets/controls"
          }
        },
        "84f2ae5c8f894d89ab8fb83c341fec1c": {
          "model_module": "@jupyter-widgets/base",
          "model_name": "LayoutModel",
          "state": {
            "_view_name": "LayoutView",
            "grid_template_rows": null,
            "right": null,
            "justify_content": null,
            "_view_module": "@jupyter-widgets/base",
            "overflow": null,
            "_model_module_version": "1.2.0",
            "_view_count": null,
            "flex_flow": null,
            "width": null,
            "min_width": null,
            "border": null,
            "align_items": null,
            "bottom": null,
            "_model_module": "@jupyter-widgets/base",
            "top": null,
            "grid_column": null,
            "overflow_y": null,
            "overflow_x": null,
            "grid_auto_flow": null,
            "grid_area": null,
            "grid_template_columns": null,
            "flex": null,
            "_model_name": "LayoutModel",
            "justify_items": null,
            "grid_row": null,
            "max_height": null,
            "align_content": null,
            "visibility": null,
            "align_self": null,
            "height": null,
            "min_height": null,
            "padding": null,
            "grid_auto_rows": null,
            "grid_gap": null,
            "max_width": null,
            "order": null,
            "_view_module_version": "1.2.0",
            "grid_template_areas": null,
            "object_position": null,
            "object_fit": null,
            "grid_auto_columns": null,
            "margin": null,
            "display": null,
            "left": null
          }
        },
        "91b7e73c422e4083a46f1705f34e61e3": {
          "model_module": "@jupyter-widgets/controls",
          "model_name": "DescriptionStyleModel",
          "state": {
            "_view_name": "StyleView",
            "_model_name": "DescriptionStyleModel",
            "description_width": "",
            "_view_module": "@jupyter-widgets/base",
            "_model_module_version": "1.5.0",
            "_view_count": null,
            "_view_module_version": "1.2.0",
            "_model_module": "@jupyter-widgets/controls"
          }
        },
        "af751022925b45b4b9496f458e1f9c0b": {
          "model_module": "@jupyter-widgets/base",
          "model_name": "LayoutModel",
          "state": {
            "_view_name": "LayoutView",
            "grid_template_rows": null,
            "right": null,
            "justify_content": null,
            "_view_module": "@jupyter-widgets/base",
            "overflow": null,
            "_model_module_version": "1.2.0",
            "_view_count": null,
            "flex_flow": null,
            "width": null,
            "min_width": null,
            "border": null,
            "align_items": null,
            "bottom": null,
            "_model_module": "@jupyter-widgets/base",
            "top": null,
            "grid_column": null,
            "overflow_y": null,
            "overflow_x": null,
            "grid_auto_flow": null,
            "grid_area": null,
            "grid_template_columns": null,
            "flex": null,
            "_model_name": "LayoutModel",
            "justify_items": null,
            "grid_row": null,
            "max_height": null,
            "align_content": null,
            "visibility": null,
            "align_self": null,
            "height": null,
            "min_height": null,
            "padding": null,
            "grid_auto_rows": null,
            "grid_gap": null,
            "max_width": null,
            "order": null,
            "_view_module_version": "1.2.0",
            "grid_template_areas": null,
            "object_position": null,
            "object_fit": null,
            "grid_auto_columns": null,
            "margin": null,
            "display": null,
            "left": null
          }
        },
        "3f6bb5bbd282448e9d0de9ab9e577865": {
          "model_module": "@jupyter-widgets/controls",
          "model_name": "HBoxModel",
          "state": {
            "_view_name": "HBoxView",
            "_dom_classes": [],
            "_model_name": "HBoxModel",
            "_view_module": "@jupyter-widgets/controls",
            "_model_module_version": "1.5.0",
            "_view_count": null,
            "_view_module_version": "1.5.0",
            "box_style": "",
            "layout": "IPY_MODEL_5ba95f3b4467415c89d46957ba38d995",
            "_model_module": "@jupyter-widgets/controls",
            "children": [
              "IPY_MODEL_da709c535a73413783fa92c49ae3eba8",
              "IPY_MODEL_b639d6e504034c78b5ba163d2c69e6f8"
            ]
          }
        },
        "5ba95f3b4467415c89d46957ba38d995": {
          "model_module": "@jupyter-widgets/base",
          "model_name": "LayoutModel",
          "state": {
            "_view_name": "LayoutView",
            "grid_template_rows": null,
            "right": null,
            "justify_content": null,
            "_view_module": "@jupyter-widgets/base",
            "overflow": null,
            "_model_module_version": "1.2.0",
            "_view_count": null,
            "flex_flow": null,
            "width": null,
            "min_width": null,
            "border": null,
            "align_items": null,
            "bottom": null,
            "_model_module": "@jupyter-widgets/base",
            "top": null,
            "grid_column": null,
            "overflow_y": null,
            "overflow_x": null,
            "grid_auto_flow": null,
            "grid_area": null,
            "grid_template_columns": null,
            "flex": null,
            "_model_name": "LayoutModel",
            "justify_items": null,
            "grid_row": null,
            "max_height": null,
            "align_content": null,
            "visibility": null,
            "align_self": null,
            "height": null,
            "min_height": null,
            "padding": null,
            "grid_auto_rows": null,
            "grid_gap": null,
            "max_width": null,
            "order": null,
            "_view_module_version": "1.2.0",
            "grid_template_areas": null,
            "object_position": null,
            "object_fit": null,
            "grid_auto_columns": null,
            "margin": null,
            "display": null,
            "left": null
          }
        },
        "da709c535a73413783fa92c49ae3eba8": {
          "model_module": "@jupyter-widgets/controls",
          "model_name": "FloatProgressModel",
          "state": {
            "_view_name": "ProgressView",
            "style": "IPY_MODEL_7ddb567dcadd4f95b07cecc63ea2ec3f",
            "_dom_classes": [],
            "description": "100%",
            "_model_name": "FloatProgressModel",
            "bar_style": "success",
            "max": 30,
            "_view_module": "@jupyter-widgets/controls",
            "_model_module_version": "1.5.0",
            "value": 30,
            "_view_count": null,
            "_view_module_version": "1.5.0",
            "orientation": "horizontal",
            "min": 0,
            "description_tooltip": null,
            "_model_module": "@jupyter-widgets/controls",
            "layout": "IPY_MODEL_31e24f9a0a5f435b8ccc0415c73b9a0c"
          }
        },
        "b639d6e504034c78b5ba163d2c69e6f8": {
          "model_module": "@jupyter-widgets/controls",
          "model_name": "HTMLModel",
          "state": {
            "_view_name": "HTMLView",
            "style": "IPY_MODEL_283f46344ffe49388eb6e6e5d14f8f28",
            "_dom_classes": [],
            "description": "",
            "_model_name": "HTMLModel",
            "placeholder": "​",
            "_view_module": "@jupyter-widgets/controls",
            "_model_module_version": "1.5.0",
            "value": " 30/30 [26:41&lt;00:00, 53.39s/it]",
            "_view_count": null,
            "_view_module_version": "1.5.0",
            "description_tooltip": null,
            "_model_module": "@jupyter-widgets/controls",
            "layout": "IPY_MODEL_4087c1fd8e9a42beb98715d0de35869b"
          }
        },
        "7ddb567dcadd4f95b07cecc63ea2ec3f": {
          "model_module": "@jupyter-widgets/controls",
          "model_name": "ProgressStyleModel",
          "state": {
            "_view_name": "StyleView",
            "_model_name": "ProgressStyleModel",
            "description_width": "initial",
            "_view_module": "@jupyter-widgets/base",
            "_model_module_version": "1.5.0",
            "_view_count": null,
            "_view_module_version": "1.2.0",
            "bar_color": null,
            "_model_module": "@jupyter-widgets/controls"
          }
        },
        "31e24f9a0a5f435b8ccc0415c73b9a0c": {
          "model_module": "@jupyter-widgets/base",
          "model_name": "LayoutModel",
          "state": {
            "_view_name": "LayoutView",
            "grid_template_rows": null,
            "right": null,
            "justify_content": null,
            "_view_module": "@jupyter-widgets/base",
            "overflow": null,
            "_model_module_version": "1.2.0",
            "_view_count": null,
            "flex_flow": null,
            "width": null,
            "min_width": null,
            "border": null,
            "align_items": null,
            "bottom": null,
            "_model_module": "@jupyter-widgets/base",
            "top": null,
            "grid_column": null,
            "overflow_y": null,
            "overflow_x": null,
            "grid_auto_flow": null,
            "grid_area": null,
            "grid_template_columns": null,
            "flex": null,
            "_model_name": "LayoutModel",
            "justify_items": null,
            "grid_row": null,
            "max_height": null,
            "align_content": null,
            "visibility": null,
            "align_self": null,
            "height": null,
            "min_height": null,
            "padding": null,
            "grid_auto_rows": null,
            "grid_gap": null,
            "max_width": null,
            "order": null,
            "_view_module_version": "1.2.0",
            "grid_template_areas": null,
            "object_position": null,
            "object_fit": null,
            "grid_auto_columns": null,
            "margin": null,
            "display": null,
            "left": null
          }
        },
        "283f46344ffe49388eb6e6e5d14f8f28": {
          "model_module": "@jupyter-widgets/controls",
          "model_name": "DescriptionStyleModel",
          "state": {
            "_view_name": "StyleView",
            "_model_name": "DescriptionStyleModel",
            "description_width": "",
            "_view_module": "@jupyter-widgets/base",
            "_model_module_version": "1.5.0",
            "_view_count": null,
            "_view_module_version": "1.2.0",
            "_model_module": "@jupyter-widgets/controls"
          }
        },
        "4087c1fd8e9a42beb98715d0de35869b": {
          "model_module": "@jupyter-widgets/base",
          "model_name": "LayoutModel",
          "state": {
            "_view_name": "LayoutView",
            "grid_template_rows": null,
            "right": null,
            "justify_content": null,
            "_view_module": "@jupyter-widgets/base",
            "overflow": null,
            "_model_module_version": "1.2.0",
            "_view_count": null,
            "flex_flow": null,
            "width": null,
            "min_width": null,
            "border": null,
            "align_items": null,
            "bottom": null,
            "_model_module": "@jupyter-widgets/base",
            "top": null,
            "grid_column": null,
            "overflow_y": null,
            "overflow_x": null,
            "grid_auto_flow": null,
            "grid_area": null,
            "grid_template_columns": null,
            "flex": null,
            "_model_name": "LayoutModel",
            "justify_items": null,
            "grid_row": null,
            "max_height": null,
            "align_content": null,
            "visibility": null,
            "align_self": null,
            "height": null,
            "min_height": null,
            "padding": null,
            "grid_auto_rows": null,
            "grid_gap": null,
            "max_width": null,
            "order": null,
            "_view_module_version": "1.2.0",
            "grid_template_areas": null,
            "object_position": null,
            "object_fit": null,
            "grid_auto_columns": null,
            "margin": null,
            "display": null,
            "left": null
          }
        }
      }
    }
  },
  "cells": [
    {
      "cell_type": "markdown",
      "metadata": {
        "id": "view-in-github",
        "colab_type": "text"
      },
      "source": [
        "<a href=\"https://colab.research.google.com/github/abhishekshakya/BPSO-and-ANN-for-sofware-fault-predicition/blob/master/internPSO_ANN.ipynb\" target=\"_parent\"><img src=\"https://colab.research.google.com/assets/colab-badge.svg\" alt=\"Open In Colab\"/></a>"
      ]
    },
    {
      "cell_type": "code",
      "metadata": {
        "id": "rEeWd-D127SW",
        "colab_type": "code",
        "colab": {
          "base_uri": "https://localhost:8080/",
          "height": 34
        },
        "outputId": "d9e5825a-3eac-47ff-bf9e-d4ff7d49cf03"
      },
      "source": [
        "from google.colab import drive\n",
        "drive.mount('/content/drive/')\n",
        "#https://ieeexplore.ieee.org/abstract/document/8011255\n",
        "#from SVM https://www.youtube.com/watch?v=_PwhiWxHK8o"
      ],
      "execution_count": 13,
      "outputs": [
        {
          "output_type": "stream",
          "text": [
            "Drive already mounted at /content/drive/; to attempt to forcibly remount, call drive.mount(\"/content/drive/\", force_remount=True).\n"
          ],
          "name": "stdout"
        }
      ]
    },
    {
      "cell_type": "code",
      "metadata": {
        "id": "uIPimctJLYPa",
        "colab_type": "code",
        "colab": {}
      },
      "source": [
        ""
      ],
      "execution_count": null,
      "outputs": []
    },
    {
      "cell_type": "code",
      "metadata": {
        "id": "YRU2kzOi3Bed",
        "colab_type": "code",
        "colab": {}
      },
      "source": [
        "import pandas as pd\n",
        "import numpy as np\n",
        "import matplotlib.pyplot as plt\n",
        "import random\n",
        "from tqdm.notebook import tqdm\n",
        "from sklearn.metrics import roc_auc_score\n",
        "from sklearn.metrics import confusion_matrix\n",
        "from scipy.io import arff"
      ],
      "execution_count": 14,
      "outputs": []
    },
    {
      "cell_type": "code",
      "metadata": {
        "id": "fmjwa4N63BjW",
        "colab_type": "code",
        "colab": {}
      },
      "source": [
        "df_pc1 = pd.read_csv('/content/drive/My Drive/dataset/pc1.csv')\n",
        "df_kc1 = pd.read_csv('/content/drive/My Drive/dataset/kc1.csv')\n",
        "df_kc2 = pd.read_csv('/content/drive/My Drive/dataset/kc2.csv')\n",
        "df_jm1 = pd.read_csv('/content/drive/My Drive/dataset/jm1.csv')   "
      ],
      "execution_count": 15,
      "outputs": []
    },
    {
      "cell_type": "code",
      "metadata": {
        "id": "36DVlXKh3Bn7",
        "colab_type": "code",
        "colab": {}
      },
      "source": [
        ""
      ],
      "execution_count": 15,
      "outputs": []
    },
    {
      "cell_type": "markdown",
      "metadata": {
        "id": "oVZp3Cp_3LnV",
        "colab_type": "text"
      },
      "source": [
        "##Data cleaning\n",
        "\n",
        "#####For kc2, here y feature is in object type"
      ]
    },
    {
      "cell_type": "code",
      "metadata": {
        "id": "vVEhP_wj3Bsr",
        "colab_type": "code",
        "colab": {}
      },
      "source": [
        "#for kc2 here change output feature from object -> bool\n",
        "p = df_kc2['defects']\n",
        "map = {'yes':True, 'no':False}\n",
        "df_kc2['defects'] = p.map(map)\n"
      ],
      "execution_count": 16,
      "outputs": []
    },
    {
      "cell_type": "code",
      "metadata": {
        "id": "-Hc12ms7P_0K",
        "colab_type": "code",
        "colab": {}
      },
      "source": [
        "def normalize(x):\n",
        "  x = x.astype(float)\n",
        "  min = np.min(x)\n",
        "  max = np.max(x)\n",
        "  return (x - min)/(max-min)"
      ],
      "execution_count": 17,
      "outputs": []
    },
    {
      "cell_type": "markdown",
      "metadata": {
        "id": "p2OBilrb3Uqu",
        "colab_type": "text"
      },
      "source": [
        "####For jm1, we have '?' randomly distributed so we need to remove them also"
      ]
    },
    {
      "cell_type": "code",
      "metadata": {
        "id": "hGjD1HNb3Bxp",
        "colab_type": "code",
        "colab": {}
      },
      "source": [
        "d1,d2,d3,d4,d5 = df_jm1.iloc[:,16], df_jm1.iloc[:,17], df_jm1.iloc[:,18], df_jm1.iloc[:,19], df_jm1.iloc[:,20]\n",
        "\n",
        "for i in range(len(d1)):\n",
        "  if (str)(d1[i]) == '?' or (str)(d2[i]) == '?' or (str)(d3[i]) == '?' or (str)(d4[i]) == '?' or (str)(d5[i]) == '?':\n",
        "    df_jm1.drop(i,inplace=True)\n",
        "    i -= 1\n"
      ],
      "execution_count": 18,
      "outputs": []
    },
    {
      "cell_type": "code",
      "metadata": {
        "id": "f-aYTls43B27",
        "colab_type": "code",
        "colab": {}
      },
      "source": [
        "# print(x_real)\n",
        "# print(y_real)"
      ],
      "execution_count": 19,
      "outputs": []
    },
    {
      "cell_type": "code",
      "metadata": {
        "id": "BLprVuM_3B8E",
        "colab_type": "code",
        "colab": {}
      },
      "source": [
        "import torch\n",
        "import torch.nn as nn\n",
        "import torch.optim as optim\n",
        "import torch.nn.functional as F"
      ],
      "execution_count": 20,
      "outputs": []
    },
    {
      "cell_type": "code",
      "metadata": {
        "id": "bkk86avm3B-2",
        "colab_type": "code",
        "colab": {}
      },
      "source": [
        "class ANN(nn.Module):\n",
        "  def __init__(self,features, nodes1, nodes2):\n",
        "    super().__init__()\n",
        "    self.l1 = nn.Linear(features, nodes1)\n",
        "    self.l2 = nn.Linear(nodes1, nodes2)\n",
        "    self.l3 = nn.Linear(nodes2 ,1)\n",
        "\n",
        "  def forward(self,x):\n",
        "    x = F.relu(self.l1(x))\n",
        "    x = F.relu(self.l2(x))\n",
        "    x = (self.l3(x))\n",
        "    return torch.sigmoid((x))\n",
        "\n",
        "class network:\n",
        "  def __init__(self, nodes1, nodes2, dim, r):\n",
        "    \"\"\"nodes = number of neural nodes in first layer\n",
        "       dim = number of features\n",
        "       r = learning rate\n",
        "      \"\"\"\n",
        "    self.ANN = ANN(dim, nodes1, nodes2)\n",
        "    self.optim = optim.Adam(self.ANN.parameters(), lr=r)\n",
        "    self.criterion = nn.BCELoss()\n",
        "\n",
        "  def fit(self, x, y, iterations):\n",
        "    ANN = self.ANN\n",
        "    optimizer = self.optim\n",
        "    criterion = self.criterion\n",
        "    x = torch.from_numpy(x).float()\n",
        "    y = torch.from_numpy(y).float()\n",
        "    # y = y.reshape(y.shape[0],1)\n",
        "\n",
        "    for i in (range(iterations)):\n",
        "\n",
        "      optimizer.zero_grad()\n",
        "    \n",
        "      y_pred = ANN(x)\n",
        "      y_pred = y_pred.squeeze()\n",
        "      loss = criterion(y_pred, y)\n",
        "\n",
        "      loss.backward()\n",
        "      optimizer.step()\n",
        "      \n",
        "      # if i%((int)(iterations*0.05)) == 0:\n",
        "      #   print(f\"epoch {i}/{iterations}| loss=>{loss.item()}\")\n",
        "  \n",
        "  def predict(self, x):\n",
        "    ANN = self.ANN\n",
        "    x = torch.from_numpy(x).float()\n",
        "    y_ = ANN(x)\n",
        "    y_ = y_.reshape(y_.shape[0])\n",
        "    y_res = []\n",
        "    for i in range(len(y_)):\n",
        "      if y_[i] >= 0.5 :\n",
        "        y_res.append(1)\n",
        "      else:\n",
        "        y_res.append(0)\n",
        "    return y_res"
      ],
      "execution_count": 21,
      "outputs": []
    },
    {
      "cell_type": "code",
      "metadata": {
        "id": "VJ5Y1bPm3CM5",
        "colab_type": "code",
        "colab": {}
      },
      "source": [
        "class PSO:\n",
        "  def __init__(self,particles, dimensions, lb, ub, itrations, c1, c2, w, xr, yr, node1, node2, lr, epochs):\n",
        "    self.node1 = node1\n",
        "    self.node2 = node2\n",
        "    self.lr = lr\n",
        "    self.epochs = epochs\n",
        "    self.xr = xr\n",
        "    self.yr = yr\n",
        "    self.lb = lb\n",
        "    self.ub = ub\n",
        "    self.p = particles\n",
        "    self.d = dimensions\n",
        "    self.n = itrations\n",
        "    self.c1 = c1\n",
        "    self.c2 = c2\n",
        "    self.w = w\n",
        "    self.fitness_value = np.zeros(particles)#p\n",
        "    self.X = np.random.randint(0,2,(particles,dimensions))#pxd\n",
        "    self.V = np.random.randint(0,2,(particles,dimensions))#pxd\n",
        "    self.pbest = self.X#pxd\n",
        "    self.gbest = np.zeros(dimensions)#d\n",
        "    #---initialiastion-------------------------\n",
        "    max = 0\n",
        "    for i in range(self.p):\n",
        "      fit = self.fitness(self.X[i])\n",
        "      self.fitness_value[i] = fit\n",
        "      if max < fit:\n",
        "        max = fit\n",
        "        self.gbest = self.X[i]\n",
        "    #-------------------------------------------\n",
        "    self.maxg = max\n",
        "    self.run()\n",
        "\n",
        "  def sigmoid(self,x):\n",
        "    return 1/(1+np.exp(-x))\n",
        "  \n",
        "  def count(self,x):\n",
        "    c = np.sum(x)\n",
        "    return c\n",
        "\n",
        "  def fitness(self,x):\n",
        "    x_train = []\n",
        "    y_train = self.yr\n",
        "\n",
        "    for i in range(self.d):\n",
        "      if x[i] == 1:\n",
        "        x_train.append(self.xr[:,i])\n",
        "\n",
        "    x_train = np.array(x_train).reshape((self.xr.shape[0],-1))\n",
        "\n",
        "    if x_train.shape[1] == 0:#no feature selected then return 0 acc\n",
        "      return 0\n",
        "\n",
        "    net = network(self.node1,self.node2, x_train.shape[1], self.lr)\n",
        "    net.fit(x_train, y_train, self.epochs)\n",
        "    ans = net.predict(x_train)\n",
        "\n",
        "    acc = ((ans==y_train).sum()*1.0)/len(ans)\n",
        "    return acc\n",
        "\n",
        "  def run(self):\n",
        "    for itr in tqdm(range(self.n)):\n",
        "      for i in range(self.p):\n",
        "        fit = self.fitness(self.X[i])\n",
        "        if fit > self.fitness_value[i]:\n",
        "          self.pbest[i] = self.X[i]\n",
        "          self.fitness_value[i] = fit\n",
        "\n",
        "        if fit > self.maxg:\n",
        "          self.gbest = self.X[i]\n",
        "          self.maxg = fit\n",
        "\n",
        "        if fit == self.maxg and (self.count(self.X[i]) < self.count(self.gbest)):\n",
        "          self.gbest = self.X[i]\n",
        "\n",
        "      r1 = random.uniform(0,1)\n",
        "      r2 = random.uniform(0,1)\n",
        "      for p in range(self.p):\n",
        "        for q in range(self.d):\n",
        "          self.V[p][q] = self.w * self.V[p][q] + self.c1*r1*(self.pbest[p][q] - self.X[p][q]) + self.c2*r2*(self.gbest[q] - self.X[p][q])\n",
        "\n",
        "          if self.V[p][q] > self.ub:\n",
        "            self.V[p][q] = self.ub\n",
        "          if self.V[p][q] < self.lb:\n",
        "            self.V[p][q] = self.lb\n",
        "\n",
        "          if self.sigmoid(self.V[p][q]) > random.uniform(0,1):\n",
        "            self.X[p][q] = 1\n",
        "          else:\n",
        "            self.X[p][q] = 0\n"
      ],
      "execution_count": 22,
      "outputs": []
    },
    {
      "cell_type": "code",
      "metadata": {
        "id": "V0qT_IJh3Cn-",
        "colab_type": "code",
        "colab": {}
      },
      "source": [
        "def get(p, lb, ub, it, c1, c2, w, node1, node2, lr, epochs, df):\n",
        "  x = df.iloc[:,:-1].apply(func= normalize, axis=0).values\n",
        "  y = df.iloc[:,-1].values.astype(int)\n",
        "\n",
        "  sep = (int)(x.shape[0] * 0.1)\n",
        "  x_train = x[:-sep, :]\n",
        "  y_train = y[:-sep]\n",
        "\n",
        "  x_test = x[sep:, :]\n",
        "  y_test = y[sep:]\n",
        "\n",
        "  pp = PSO(p,x_train.shape[1],lb,ub,it,c1,c2,w, x_train, y_train,node1,node2,lr,epochs)\n",
        "\n",
        "  ip = []\n",
        "  ip_test = []\n",
        "  op = y_train\n",
        "  for i in range(len(pp.gbest)):\n",
        "    if pp.gbest[i] == 1:\n",
        "      ip.append(x_train[:,i])\n",
        "      ip_test.append(x_test[:,i])\n",
        "  \n",
        "  ip = np.array(ip).reshape((x_train.shape[0],-1))\n",
        "  ip_test = np.array(ip_test).reshape((x_test.shape[0],-1))\n",
        "\n",
        "  #neural network\n",
        "  net1 = network(node1,node2, x_train.shape[1], lr)\n",
        "  net1.fit(x_train, y_train, epochs)\n",
        "  prediction1 = net1.predict(x_test)#no feature\n",
        "\n",
        "  net2 = network(node1,node2, ip.shape[1], lr)\n",
        "  net2.fit(ip, y_train, epochs)\n",
        "  prediction2 = net2.predict(ip_test)#feature selection\n",
        "  #------------------------------------------------\n",
        "\n",
        "  print(f\"number of features selected {sum(pp.gbest)}\")\n",
        "  print(f\"Feature selection accuracy->{100*(((prediction2==y_test).sum()*1.0)/len(y_test))}\")\n",
        "  print(f\"No Feature selection accuracy->{100*(((prediction1==y_test).sum()*1.0)/len(y_test))}\")"
      ],
      "execution_count": 23,
      "outputs": []
    },
    {
      "cell_type": "code",
      "metadata": {
        "id": "5gPGkQww3Cqo",
        "colab_type": "code",
        "colab": {
          "base_uri": "https://localhost:8080/",
          "height": 117,
          "referenced_widgets": [
            "59aaa6fc736e4f1da27cb0e5cadf6567",
            "6a53f1cce9974490b1d08d6d4d365de2",
            "28239231edf94ef1b1384825fbe76632",
            "1f9e52a644b84330bc481549c3a67817",
            "e3a9bfe3fa334753b1a4ca8053f46245",
            "dd5a66aed912441cb4b4092c154d77b5",
            "d12262428ab84d63a05e11b7ba32e791",
            "8dcf30ddc60d4f13a2903e395e03f2bf"
          ]
        },
        "outputId": "5f0f4771-9aad-4d09-8804-f0aa9fa9d1cf"
      },
      "source": [
        "p = 50 #number of particles\n",
        "lb = 0 #min value after normalization\n",
        "ub = 1 #max value after normalization\n",
        "it = 30 #number of itrations\n",
        "c1 = 1.5 # coefficient 1\n",
        "c2 = 1.7 # coefficient 3\n",
        "w = 0.7 #intertia\n",
        "\n",
        "node1 = 16 #total number of nodes in layer1\n",
        "node2 = 8 #total number of nodes in layer2\n",
        "lr = 0.001 #learning rate\n",
        "epochs = 300 #epochs in ANN\n",
        "get(p,lb,ub,it,c1,c2,w,node1,node2,lr,epochs,df_pc1)"
      ],
      "execution_count": 24,
      "outputs": [
        {
          "output_type": "display_data",
          "data": {
            "application/vnd.jupyter.widget-view+json": {
              "model_id": "59aaa6fc736e4f1da27cb0e5cadf6567",
              "version_minor": 0,
              "version_major": 2
            },
            "text/plain": [
              "HBox(children=(FloatProgress(value=0.0, max=30.0), HTML(value='')))"
            ]
          },
          "metadata": {
            "tags": []
          }
        },
        {
          "output_type": "stream",
          "text": [
            "\n",
            "number of features selected 8\n",
            "Feature selection accuracy->100.0\n",
            "No Feature selection accuracy->99.8998998998999\n"
          ],
          "name": "stdout"
        }
      ]
    },
    {
      "cell_type": "code",
      "metadata": {
        "id": "Hj_stLHy3Ct1",
        "colab_type": "code",
        "colab": {
          "base_uri": "https://localhost:8080/",
          "height": 117,
          "referenced_widgets": [
            "c51cf9564d2e40c48c82a9231370736a",
            "d94234db81b64a32aee8e52f9889279e",
            "a46479a4e30b4860beef11e8c36f6cf7",
            "ba6ffad22ce648feb8c8b81ee11fe3cc",
            "b27c8bde448e48c5b8112cb24550c264",
            "070a53e0cb9a4770939e58faa37888a5",
            "80d482b85930410798b1ff802b26628d",
            "fe7ed38cd4994256a3a5a4cce8642cba"
          ]
        },
        "outputId": "9883b66f-253b-4cc8-9d81-3fea8db8ccd1"
      },
      "source": [
        "get(p,lb,ub,it,c1,c2,w,node1,node2,lr,epochs,df_kc1)"
      ],
      "execution_count": 25,
      "outputs": [
        {
          "output_type": "display_data",
          "data": {
            "application/vnd.jupyter.widget-view+json": {
              "model_id": "c51cf9564d2e40c48c82a9231370736a",
              "version_minor": 0,
              "version_major": 2
            },
            "text/plain": [
              "HBox(children=(FloatProgress(value=0.0, max=30.0), HTML(value='')))"
            ]
          },
          "metadata": {
            "tags": []
          }
        },
        {
          "output_type": "stream",
          "text": [
            "\n",
            "number of features selected 7\n",
            "Feature selection accuracy->93.8388625592417\n",
            "No Feature selection accuracy->93.89152185360716\n"
          ],
          "name": "stdout"
        }
      ]
    },
    {
      "cell_type": "code",
      "metadata": {
        "id": "N5EtIeAs3Cxb",
        "colab_type": "code",
        "colab": {
          "base_uri": "https://localhost:8080/",
          "height": 117,
          "referenced_widgets": [
            "67b48826cad74b7c8d43509c7d201c13",
            "b720a54ef2e24e7798e4f9f01d0d4670",
            "f5b9e54b7a3e4144b67d3c7180084ab7",
            "331fc650677a4e6cb2829f34ecc188e9",
            "e852d33397614d1a83468a5f340e1df6",
            "84f2ae5c8f894d89ab8fb83c341fec1c",
            "91b7e73c422e4083a46f1705f34e61e3",
            "af751022925b45b4b9496f458e1f9c0b"
          ]
        },
        "outputId": "e44d5e41-2fc2-4084-8f43-541c5784e704"
      },
      "source": [
        "get(p,lb,ub,it,c1,c2,w,node1,node2,lr,epochs,df_kc2)"
      ],
      "execution_count": 26,
      "outputs": [
        {
          "output_type": "display_data",
          "data": {
            "application/vnd.jupyter.widget-view+json": {
              "model_id": "67b48826cad74b7c8d43509c7d201c13",
              "version_minor": 0,
              "version_major": 2
            },
            "text/plain": [
              "HBox(children=(FloatProgress(value=0.0, max=30.0), HTML(value='')))"
            ]
          },
          "metadata": {
            "tags": []
          }
        },
        {
          "output_type": "stream",
          "text": [
            "\n",
            "number of features selected 12\n",
            "Feature selection accuracy->78.51063829787233\n",
            "No Feature selection accuracy->78.51063829787233\n"
          ],
          "name": "stdout"
        }
      ]
    },
    {
      "cell_type": "code",
      "metadata": {
        "id": "awgGhsRL3CSw",
        "colab_type": "code",
        "colab": {
          "base_uri": "https://localhost:8080/",
          "height": 117,
          "referenced_widgets": [
            "3f6bb5bbd282448e9d0de9ab9e577865",
            "5ba95f3b4467415c89d46957ba38d995",
            "da709c535a73413783fa92c49ae3eba8",
            "b639d6e504034c78b5ba163d2c69e6f8",
            "7ddb567dcadd4f95b07cecc63ea2ec3f",
            "31e24f9a0a5f435b8ccc0415c73b9a0c",
            "283f46344ffe49388eb6e6e5d14f8f28",
            "4087c1fd8e9a42beb98715d0de35869b"
          ]
        },
        "outputId": "425bc864-d89e-4b4f-92bb-5c02ccaa1ebc"
      },
      "source": [
        "get(p,lb,ub,it,c1,c2,w,node1,node2,lr,epochs,df_jm1)"
      ],
      "execution_count": 27,
      "outputs": [
        {
          "output_type": "display_data",
          "data": {
            "application/vnd.jupyter.widget-view+json": {
              "model_id": "3f6bb5bbd282448e9d0de9ab9e577865",
              "version_minor": 0,
              "version_major": 2
            },
            "text/plain": [
              "HBox(children=(FloatProgress(value=0.0, max=30.0), HTML(value='')))"
            ]
          },
          "metadata": {
            "tags": []
          }
        },
        {
          "output_type": "stream",
          "text": [
            "\n",
            "number of features selected 7\n",
            "Feature selection accuracy->89.53227124183006\n",
            "No Feature selection accuracy->89.80800653594771\n"
          ],
          "name": "stdout"
        }
      ]
    },
    {
      "cell_type": "code",
      "metadata": {
        "id": "y43cZQ8R3CLQ",
        "colab_type": "code",
        "colab": {}
      },
      "source": [
        ""
      ],
      "execution_count": null,
      "outputs": []
    },
    {
      "cell_type": "code",
      "metadata": {
        "id": "76NQeS-13CKB",
        "colab_type": "code",
        "colab": {}
      },
      "source": [
        ""
      ],
      "execution_count": null,
      "outputs": []
    },
    {
      "cell_type": "code",
      "metadata": {
        "id": "g3zRUxlr3CGx",
        "colab_type": "code",
        "colab": {}
      },
      "source": [
        ""
      ],
      "execution_count": null,
      "outputs": []
    },
    {
      "cell_type": "code",
      "metadata": {
        "id": "FVLyrsPm3CDw",
        "colab_type": "code",
        "colab": {}
      },
      "source": [
        ""
      ],
      "execution_count": null,
      "outputs": []
    },
    {
      "cell_type": "code",
      "metadata": {
        "id": "K5CSCvoT3B6E",
        "colab_type": "code",
        "colab": {}
      },
      "source": [
        ""
      ],
      "execution_count": null,
      "outputs": []
    },
    {
      "cell_type": "code",
      "metadata": {
        "id": "UgqKgFkF3B0a",
        "colab_type": "code",
        "colab": {}
      },
      "source": [
        ""
      ],
      "execution_count": null,
      "outputs": []
    },
    {
      "cell_type": "code",
      "metadata": {
        "id": "OKuf1tW43Bvw",
        "colab_type": "code",
        "colab": {}
      },
      "source": [
        ""
      ],
      "execution_count": null,
      "outputs": []
    },
    {
      "cell_type": "code",
      "metadata": {
        "id": "t7DwyoGO3Bqp",
        "colab_type": "code",
        "colab": {}
      },
      "source": [
        ""
      ],
      "execution_count": null,
      "outputs": []
    },
    {
      "cell_type": "code",
      "metadata": {
        "id": "0cTwZfZS3BmD",
        "colab_type": "code",
        "colab": {}
      },
      "source": [
        ""
      ],
      "execution_count": null,
      "outputs": []
    },
    {
      "cell_type": "code",
      "metadata": {
        "id": "zpr-Y_wG3Bhi",
        "colab_type": "code",
        "colab": {}
      },
      "source": [
        ""
      ],
      "execution_count": null,
      "outputs": []
    }
  ]
}