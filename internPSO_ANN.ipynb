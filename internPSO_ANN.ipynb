{
  "nbformat": 4,
  "nbformat_minor": 0,
  "metadata": {
    "colab": {
      "name": "internPSO_ANN.ipynb",
      "provenance": [],
      "authorship_tag": "ABX9TyMBgvaqDzK4vrQgpjQ5T7QI",
      "include_colab_link": true
    },
    "kernelspec": {
      "name": "python3",
      "display_name": "Python 3"
    },
    "widgets": {
      "application/vnd.jupyter.widget-state+json": {
        "2aceb59c71654d3bb0e8ee5fe1fe29fe": {
          "model_module": "@jupyter-widgets/controls",
          "model_name": "HBoxModel",
          "state": {
            "_view_name": "HBoxView",
            "_dom_classes": [],
            "_model_name": "HBoxModel",
            "_view_module": "@jupyter-widgets/controls",
            "_model_module_version": "1.5.0",
            "_view_count": null,
            "_view_module_version": "1.5.0",
            "box_style": "",
            "layout": "IPY_MODEL_2e0a0eb5b43b40f19be4e3d0ca2f1195",
            "_model_module": "@jupyter-widgets/controls",
            "children": [
              "IPY_MODEL_18bce2699ee14d568390fcccfceab961",
              "IPY_MODEL_d0b12ffc47fd4c6cab5175a75fd5cc86"
            ]
          }
        },
        "2e0a0eb5b43b40f19be4e3d0ca2f1195": {
          "model_module": "@jupyter-widgets/base",
          "model_name": "LayoutModel",
          "state": {
            "_view_name": "LayoutView",
            "grid_template_rows": null,
            "right": null,
            "justify_content": null,
            "_view_module": "@jupyter-widgets/base",
            "overflow": null,
            "_model_module_version": "1.2.0",
            "_view_count": null,
            "flex_flow": null,
            "width": null,
            "min_width": null,
            "border": null,
            "align_items": null,
            "bottom": null,
            "_model_module": "@jupyter-widgets/base",
            "top": null,
            "grid_column": null,
            "overflow_y": null,
            "overflow_x": null,
            "grid_auto_flow": null,
            "grid_area": null,
            "grid_template_columns": null,
            "flex": null,
            "_model_name": "LayoutModel",
            "justify_items": null,
            "grid_row": null,
            "max_height": null,
            "align_content": null,
            "visibility": null,
            "align_self": null,
            "height": null,
            "min_height": null,
            "padding": null,
            "grid_auto_rows": null,
            "grid_gap": null,
            "max_width": null,
            "order": null,
            "_view_module_version": "1.2.0",
            "grid_template_areas": null,
            "object_position": null,
            "object_fit": null,
            "grid_auto_columns": null,
            "margin": null,
            "display": null,
            "left": null
          }
        },
        "18bce2699ee14d568390fcccfceab961": {
          "model_module": "@jupyter-widgets/controls",
          "model_name": "FloatProgressModel",
          "state": {
            "_view_name": "ProgressView",
            "style": "IPY_MODEL_20c8934b0efc4ed58fcc095c5cafe915",
            "_dom_classes": [],
            "description": "100%",
            "_model_name": "FloatProgressModel",
            "bar_style": "success",
            "max": 30,
            "_view_module": "@jupyter-widgets/controls",
            "_model_module_version": "1.5.0",
            "value": 30,
            "_view_count": null,
            "_view_module_version": "1.5.0",
            "orientation": "horizontal",
            "min": 0,
            "description_tooltip": null,
            "_model_module": "@jupyter-widgets/controls",
            "layout": "IPY_MODEL_965dd2957f9a48348580ffddafd79482"
          }
        },
        "d0b12ffc47fd4c6cab5175a75fd5cc86": {
          "model_module": "@jupyter-widgets/controls",
          "model_name": "HTMLModel",
          "state": {
            "_view_name": "HTMLView",
            "style": "IPY_MODEL_b4ab558bcad64e71ad0be07c6d34ff0f",
            "_dom_classes": [],
            "description": "",
            "_model_name": "HTMLModel",
            "placeholder": "​",
            "_view_module": "@jupyter-widgets/controls",
            "_model_module_version": "1.5.0",
            "value": " 30/30 [18:15&lt;00:00, 36.53s/it]",
            "_view_count": null,
            "_view_module_version": "1.5.0",
            "description_tooltip": null,
            "_model_module": "@jupyter-widgets/controls",
            "layout": "IPY_MODEL_2ad59d9b6c594ab0b43efcf0631cf4c6"
          }
        },
        "20c8934b0efc4ed58fcc095c5cafe915": {
          "model_module": "@jupyter-widgets/controls",
          "model_name": "ProgressStyleModel",
          "state": {
            "_view_name": "StyleView",
            "_model_name": "ProgressStyleModel",
            "description_width": "initial",
            "_view_module": "@jupyter-widgets/base",
            "_model_module_version": "1.5.0",
            "_view_count": null,
            "_view_module_version": "1.2.0",
            "bar_color": null,
            "_model_module": "@jupyter-widgets/controls"
          }
        },
        "965dd2957f9a48348580ffddafd79482": {
          "model_module": "@jupyter-widgets/base",
          "model_name": "LayoutModel",
          "state": {
            "_view_name": "LayoutView",
            "grid_template_rows": null,
            "right": null,
            "justify_content": null,
            "_view_module": "@jupyter-widgets/base",
            "overflow": null,
            "_model_module_version": "1.2.0",
            "_view_count": null,
            "flex_flow": null,
            "width": null,
            "min_width": null,
            "border": null,
            "align_items": null,
            "bottom": null,
            "_model_module": "@jupyter-widgets/base",
            "top": null,
            "grid_column": null,
            "overflow_y": null,
            "overflow_x": null,
            "grid_auto_flow": null,
            "grid_area": null,
            "grid_template_columns": null,
            "flex": null,
            "_model_name": "LayoutModel",
            "justify_items": null,
            "grid_row": null,
            "max_height": null,
            "align_content": null,
            "visibility": null,
            "align_self": null,
            "height": null,
            "min_height": null,
            "padding": null,
            "grid_auto_rows": null,
            "grid_gap": null,
            "max_width": null,
            "order": null,
            "_view_module_version": "1.2.0",
            "grid_template_areas": null,
            "object_position": null,
            "object_fit": null,
            "grid_auto_columns": null,
            "margin": null,
            "display": null,
            "left": null
          }
        },
        "b4ab558bcad64e71ad0be07c6d34ff0f": {
          "model_module": "@jupyter-widgets/controls",
          "model_name": "DescriptionStyleModel",
          "state": {
            "_view_name": "StyleView",
            "_model_name": "DescriptionStyleModel",
            "description_width": "",
            "_view_module": "@jupyter-widgets/base",
            "_model_module_version": "1.5.0",
            "_view_count": null,
            "_view_module_version": "1.2.0",
            "_model_module": "@jupyter-widgets/controls"
          }
        },
        "2ad59d9b6c594ab0b43efcf0631cf4c6": {
          "model_module": "@jupyter-widgets/base",
          "model_name": "LayoutModel",
          "state": {
            "_view_name": "LayoutView",
            "grid_template_rows": null,
            "right": null,
            "justify_content": null,
            "_view_module": "@jupyter-widgets/base",
            "overflow": null,
            "_model_module_version": "1.2.0",
            "_view_count": null,
            "flex_flow": null,
            "width": null,
            "min_width": null,
            "border": null,
            "align_items": null,
            "bottom": null,
            "_model_module": "@jupyter-widgets/base",
            "top": null,
            "grid_column": null,
            "overflow_y": null,
            "overflow_x": null,
            "grid_auto_flow": null,
            "grid_area": null,
            "grid_template_columns": null,
            "flex": null,
            "_model_name": "LayoutModel",
            "justify_items": null,
            "grid_row": null,
            "max_height": null,
            "align_content": null,
            "visibility": null,
            "align_self": null,
            "height": null,
            "min_height": null,
            "padding": null,
            "grid_auto_rows": null,
            "grid_gap": null,
            "max_width": null,
            "order": null,
            "_view_module_version": "1.2.0",
            "grid_template_areas": null,
            "object_position": null,
            "object_fit": null,
            "grid_auto_columns": null,
            "margin": null,
            "display": null,
            "left": null
          }
        },
        "f8359b58369a4629bf423801bacd2072": {
          "model_module": "@jupyter-widgets/controls",
          "model_name": "HBoxModel",
          "state": {
            "_view_name": "HBoxView",
            "_dom_classes": [],
            "_model_name": "HBoxModel",
            "_view_module": "@jupyter-widgets/controls",
            "_model_module_version": "1.5.0",
            "_view_count": null,
            "_view_module_version": "1.5.0",
            "box_style": "",
            "layout": "IPY_MODEL_8468b4ce219b4a09b403811d73c3e889",
            "_model_module": "@jupyter-widgets/controls",
            "children": [
              "IPY_MODEL_47755aa75f0f420e8ce348ae661e3f4d",
              "IPY_MODEL_369a053ace594e909a8680d900a9c5ba"
            ]
          }
        },
        "8468b4ce219b4a09b403811d73c3e889": {
          "model_module": "@jupyter-widgets/base",
          "model_name": "LayoutModel",
          "state": {
            "_view_name": "LayoutView",
            "grid_template_rows": null,
            "right": null,
            "justify_content": null,
            "_view_module": "@jupyter-widgets/base",
            "overflow": null,
            "_model_module_version": "1.2.0",
            "_view_count": null,
            "flex_flow": null,
            "width": null,
            "min_width": null,
            "border": null,
            "align_items": null,
            "bottom": null,
            "_model_module": "@jupyter-widgets/base",
            "top": null,
            "grid_column": null,
            "overflow_y": null,
            "overflow_x": null,
            "grid_auto_flow": null,
            "grid_area": null,
            "grid_template_columns": null,
            "flex": null,
            "_model_name": "LayoutModel",
            "justify_items": null,
            "grid_row": null,
            "max_height": null,
            "align_content": null,
            "visibility": null,
            "align_self": null,
            "height": null,
            "min_height": null,
            "padding": null,
            "grid_auto_rows": null,
            "grid_gap": null,
            "max_width": null,
            "order": null,
            "_view_module_version": "1.2.0",
            "grid_template_areas": null,
            "object_position": null,
            "object_fit": null,
            "grid_auto_columns": null,
            "margin": null,
            "display": null,
            "left": null
          }
        },
        "47755aa75f0f420e8ce348ae661e3f4d": {
          "model_module": "@jupyter-widgets/controls",
          "model_name": "FloatProgressModel",
          "state": {
            "_view_name": "ProgressView",
            "style": "IPY_MODEL_1c9200d48ecb43bb827bc1d8ccfc6ec8",
            "_dom_classes": [],
            "description": "100%",
            "_model_name": "FloatProgressModel",
            "bar_style": "success",
            "max": 30,
            "_view_module": "@jupyter-widgets/controls",
            "_model_module_version": "1.5.0",
            "value": 30,
            "_view_count": null,
            "_view_module_version": "1.5.0",
            "orientation": "horizontal",
            "min": 0,
            "description_tooltip": null,
            "_model_module": "@jupyter-widgets/controls",
            "layout": "IPY_MODEL_d0caf51936ad4562a5e445c7677d296b"
          }
        },
        "369a053ace594e909a8680d900a9c5ba": {
          "model_module": "@jupyter-widgets/controls",
          "model_name": "HTMLModel",
          "state": {
            "_view_name": "HTMLView",
            "style": "IPY_MODEL_e3f43108422e4e9a893257e51b85be1c",
            "_dom_classes": [],
            "description": "",
            "_model_name": "HTMLModel",
            "placeholder": "​",
            "_view_module": "@jupyter-widgets/controls",
            "_model_module_version": "1.5.0",
            "value": " 30/30 [09:21&lt;00:00, 18.73s/it]",
            "_view_count": null,
            "_view_module_version": "1.5.0",
            "description_tooltip": null,
            "_model_module": "@jupyter-widgets/controls",
            "layout": "IPY_MODEL_d4cba3e32a3a4374b4a8e703d7b66daa"
          }
        },
        "1c9200d48ecb43bb827bc1d8ccfc6ec8": {
          "model_module": "@jupyter-widgets/controls",
          "model_name": "ProgressStyleModel",
          "state": {
            "_view_name": "StyleView",
            "_model_name": "ProgressStyleModel",
            "description_width": "initial",
            "_view_module": "@jupyter-widgets/base",
            "_model_module_version": "1.5.0",
            "_view_count": null,
            "_view_module_version": "1.2.0",
            "bar_color": null,
            "_model_module": "@jupyter-widgets/controls"
          }
        },
        "d0caf51936ad4562a5e445c7677d296b": {
          "model_module": "@jupyter-widgets/base",
          "model_name": "LayoutModel",
          "state": {
            "_view_name": "LayoutView",
            "grid_template_rows": null,
            "right": null,
            "justify_content": null,
            "_view_module": "@jupyter-widgets/base",
            "overflow": null,
            "_model_module_version": "1.2.0",
            "_view_count": null,
            "flex_flow": null,
            "width": null,
            "min_width": null,
            "border": null,
            "align_items": null,
            "bottom": null,
            "_model_module": "@jupyter-widgets/base",
            "top": null,
            "grid_column": null,
            "overflow_y": null,
            "overflow_x": null,
            "grid_auto_flow": null,
            "grid_area": null,
            "grid_template_columns": null,
            "flex": null,
            "_model_name": "LayoutModel",
            "justify_items": null,
            "grid_row": null,
            "max_height": null,
            "align_content": null,
            "visibility": null,
            "align_self": null,
            "height": null,
            "min_height": null,
            "padding": null,
            "grid_auto_rows": null,
            "grid_gap": null,
            "max_width": null,
            "order": null,
            "_view_module_version": "1.2.0",
            "grid_template_areas": null,
            "object_position": null,
            "object_fit": null,
            "grid_auto_columns": null,
            "margin": null,
            "display": null,
            "left": null
          }
        },
        "e3f43108422e4e9a893257e51b85be1c": {
          "model_module": "@jupyter-widgets/controls",
          "model_name": "DescriptionStyleModel",
          "state": {
            "_view_name": "StyleView",
            "_model_name": "DescriptionStyleModel",
            "description_width": "",
            "_view_module": "@jupyter-widgets/base",
            "_model_module_version": "1.5.0",
            "_view_count": null,
            "_view_module_version": "1.2.0",
            "_model_module": "@jupyter-widgets/controls"
          }
        },
        "d4cba3e32a3a4374b4a8e703d7b66daa": {
          "model_module": "@jupyter-widgets/base",
          "model_name": "LayoutModel",
          "state": {
            "_view_name": "LayoutView",
            "grid_template_rows": null,
            "right": null,
            "justify_content": null,
            "_view_module": "@jupyter-widgets/base",
            "overflow": null,
            "_model_module_version": "1.2.0",
            "_view_count": null,
            "flex_flow": null,
            "width": null,
            "min_width": null,
            "border": null,
            "align_items": null,
            "bottom": null,
            "_model_module": "@jupyter-widgets/base",
            "top": null,
            "grid_column": null,
            "overflow_y": null,
            "overflow_x": null,
            "grid_auto_flow": null,
            "grid_area": null,
            "grid_template_columns": null,
            "flex": null,
            "_model_name": "LayoutModel",
            "justify_items": null,
            "grid_row": null,
            "max_height": null,
            "align_content": null,
            "visibility": null,
            "align_self": null,
            "height": null,
            "min_height": null,
            "padding": null,
            "grid_auto_rows": null,
            "grid_gap": null,
            "max_width": null,
            "order": null,
            "_view_module_version": "1.2.0",
            "grid_template_areas": null,
            "object_position": null,
            "object_fit": null,
            "grid_auto_columns": null,
            "margin": null,
            "display": null,
            "left": null
          }
        },
        "9ad23de3cbf74bbfbcd628352eb81f95": {
          "model_module": "@jupyter-widgets/controls",
          "model_name": "HBoxModel",
          "state": {
            "_view_name": "HBoxView",
            "_dom_classes": [],
            "_model_name": "HBoxModel",
            "_view_module": "@jupyter-widgets/controls",
            "_model_module_version": "1.5.0",
            "_view_count": null,
            "_view_module_version": "1.5.0",
            "box_style": "",
            "layout": "IPY_MODEL_232460c691b1473cb9cf5b98b48e7567",
            "_model_module": "@jupyter-widgets/controls",
            "children": [
              "IPY_MODEL_52dee854ab034a98b9374a46a31e0a9e",
              "IPY_MODEL_7c578a959696442793c6d9ffa0581533"
            ]
          }
        },
        "232460c691b1473cb9cf5b98b48e7567": {
          "model_module": "@jupyter-widgets/base",
          "model_name": "LayoutModel",
          "state": {
            "_view_name": "LayoutView",
            "grid_template_rows": null,
            "right": null,
            "justify_content": null,
            "_view_module": "@jupyter-widgets/base",
            "overflow": null,
            "_model_module_version": "1.2.0",
            "_view_count": null,
            "flex_flow": null,
            "width": null,
            "min_width": null,
            "border": null,
            "align_items": null,
            "bottom": null,
            "_model_module": "@jupyter-widgets/base",
            "top": null,
            "grid_column": null,
            "overflow_y": null,
            "overflow_x": null,
            "grid_auto_flow": null,
            "grid_area": null,
            "grid_template_columns": null,
            "flex": null,
            "_model_name": "LayoutModel",
            "justify_items": null,
            "grid_row": null,
            "max_height": null,
            "align_content": null,
            "visibility": null,
            "align_self": null,
            "height": null,
            "min_height": null,
            "padding": null,
            "grid_auto_rows": null,
            "grid_gap": null,
            "max_width": null,
            "order": null,
            "_view_module_version": "1.2.0",
            "grid_template_areas": null,
            "object_position": null,
            "object_fit": null,
            "grid_auto_columns": null,
            "margin": null,
            "display": null,
            "left": null
          }
        },
        "52dee854ab034a98b9374a46a31e0a9e": {
          "model_module": "@jupyter-widgets/controls",
          "model_name": "FloatProgressModel",
          "state": {
            "_view_name": "ProgressView",
            "style": "IPY_MODEL_e9b6f71ec2f64ee6b8ba9e4c56aa2539",
            "_dom_classes": [],
            "description": "100%",
            "_model_name": "FloatProgressModel",
            "bar_style": "success",
            "max": 30,
            "_view_module": "@jupyter-widgets/controls",
            "_model_module_version": "1.5.0",
            "value": 30,
            "_view_count": null,
            "_view_module_version": "1.5.0",
            "orientation": "horizontal",
            "min": 0,
            "description_tooltip": null,
            "_model_module": "@jupyter-widgets/controls",
            "layout": "IPY_MODEL_a0adb68e65fb408b960c306ddd8977d0"
          }
        },
        "7c578a959696442793c6d9ffa0581533": {
          "model_module": "@jupyter-widgets/controls",
          "model_name": "HTMLModel",
          "state": {
            "_view_name": "HTMLView",
            "style": "IPY_MODEL_2f9206a3a6394520883e0e175927624e",
            "_dom_classes": [],
            "description": "",
            "_model_name": "HTMLModel",
            "placeholder": "​",
            "_view_module": "@jupyter-widgets/controls",
            "_model_module_version": "1.5.0",
            "value": " 30/30 [09:20&lt;00:00, 18.68s/it]",
            "_view_count": null,
            "_view_module_version": "1.5.0",
            "description_tooltip": null,
            "_model_module": "@jupyter-widgets/controls",
            "layout": "IPY_MODEL_f63efef772b543aa920ff20c7b3573df"
          }
        },
        "e9b6f71ec2f64ee6b8ba9e4c56aa2539": {
          "model_module": "@jupyter-widgets/controls",
          "model_name": "ProgressStyleModel",
          "state": {
            "_view_name": "StyleView",
            "_model_name": "ProgressStyleModel",
            "description_width": "initial",
            "_view_module": "@jupyter-widgets/base",
            "_model_module_version": "1.5.0",
            "_view_count": null,
            "_view_module_version": "1.2.0",
            "bar_color": null,
            "_model_module": "@jupyter-widgets/controls"
          }
        },
        "a0adb68e65fb408b960c306ddd8977d0": {
          "model_module": "@jupyter-widgets/base",
          "model_name": "LayoutModel",
          "state": {
            "_view_name": "LayoutView",
            "grid_template_rows": null,
            "right": null,
            "justify_content": null,
            "_view_module": "@jupyter-widgets/base",
            "overflow": null,
            "_model_module_version": "1.2.0",
            "_view_count": null,
            "flex_flow": null,
            "width": null,
            "min_width": null,
            "border": null,
            "align_items": null,
            "bottom": null,
            "_model_module": "@jupyter-widgets/base",
            "top": null,
            "grid_column": null,
            "overflow_y": null,
            "overflow_x": null,
            "grid_auto_flow": null,
            "grid_area": null,
            "grid_template_columns": null,
            "flex": null,
            "_model_name": "LayoutModel",
            "justify_items": null,
            "grid_row": null,
            "max_height": null,
            "align_content": null,
            "visibility": null,
            "align_self": null,
            "height": null,
            "min_height": null,
            "padding": null,
            "grid_auto_rows": null,
            "grid_gap": null,
            "max_width": null,
            "order": null,
            "_view_module_version": "1.2.0",
            "grid_template_areas": null,
            "object_position": null,
            "object_fit": null,
            "grid_auto_columns": null,
            "margin": null,
            "display": null,
            "left": null
          }
        },
        "2f9206a3a6394520883e0e175927624e": {
          "model_module": "@jupyter-widgets/controls",
          "model_name": "DescriptionStyleModel",
          "state": {
            "_view_name": "StyleView",
            "_model_name": "DescriptionStyleModel",
            "description_width": "",
            "_view_module": "@jupyter-widgets/base",
            "_model_module_version": "1.5.0",
            "_view_count": null,
            "_view_module_version": "1.2.0",
            "_model_module": "@jupyter-widgets/controls"
          }
        },
        "f63efef772b543aa920ff20c7b3573df": {
          "model_module": "@jupyter-widgets/base",
          "model_name": "LayoutModel",
          "state": {
            "_view_name": "LayoutView",
            "grid_template_rows": null,
            "right": null,
            "justify_content": null,
            "_view_module": "@jupyter-widgets/base",
            "overflow": null,
            "_model_module_version": "1.2.0",
            "_view_count": null,
            "flex_flow": null,
            "width": null,
            "min_width": null,
            "border": null,
            "align_items": null,
            "bottom": null,
            "_model_module": "@jupyter-widgets/base",
            "top": null,
            "grid_column": null,
            "overflow_y": null,
            "overflow_x": null,
            "grid_auto_flow": null,
            "grid_area": null,
            "grid_template_columns": null,
            "flex": null,
            "_model_name": "LayoutModel",
            "justify_items": null,
            "grid_row": null,
            "max_height": null,
            "align_content": null,
            "visibility": null,
            "align_self": null,
            "height": null,
            "min_height": null,
            "padding": null,
            "grid_auto_rows": null,
            "grid_gap": null,
            "max_width": null,
            "order": null,
            "_view_module_version": "1.2.0",
            "grid_template_areas": null,
            "object_position": null,
            "object_fit": null,
            "grid_auto_columns": null,
            "margin": null,
            "display": null,
            "left": null
          }
        },
        "6ddf81c8d4e848fabe5c01373961ea1e": {
          "model_module": "@jupyter-widgets/controls",
          "model_name": "HBoxModel",
          "state": {
            "_view_name": "HBoxView",
            "_dom_classes": [],
            "_model_name": "HBoxModel",
            "_view_module": "@jupyter-widgets/controls",
            "_model_module_version": "1.5.0",
            "_view_count": null,
            "_view_module_version": "1.5.0",
            "box_style": "",
            "layout": "IPY_MODEL_4aad1bafe7494c0db50784027677c493",
            "_model_module": "@jupyter-widgets/controls",
            "children": [
              "IPY_MODEL_6ff84e0f2483451dbf57aba61c0c6162",
              "IPY_MODEL_066b74d3af8d4f45aadac3c5d40f280c"
            ]
          }
        },
        "4aad1bafe7494c0db50784027677c493": {
          "model_module": "@jupyter-widgets/base",
          "model_name": "LayoutModel",
          "state": {
            "_view_name": "LayoutView",
            "grid_template_rows": null,
            "right": null,
            "justify_content": null,
            "_view_module": "@jupyter-widgets/base",
            "overflow": null,
            "_model_module_version": "1.2.0",
            "_view_count": null,
            "flex_flow": null,
            "width": null,
            "min_width": null,
            "border": null,
            "align_items": null,
            "bottom": null,
            "_model_module": "@jupyter-widgets/base",
            "top": null,
            "grid_column": null,
            "overflow_y": null,
            "overflow_x": null,
            "grid_auto_flow": null,
            "grid_area": null,
            "grid_template_columns": null,
            "flex": null,
            "_model_name": "LayoutModel",
            "justify_items": null,
            "grid_row": null,
            "max_height": null,
            "align_content": null,
            "visibility": null,
            "align_self": null,
            "height": null,
            "min_height": null,
            "padding": null,
            "grid_auto_rows": null,
            "grid_gap": null,
            "max_width": null,
            "order": null,
            "_view_module_version": "1.2.0",
            "grid_template_areas": null,
            "object_position": null,
            "object_fit": null,
            "grid_auto_columns": null,
            "margin": null,
            "display": null,
            "left": null
          }
        },
        "6ff84e0f2483451dbf57aba61c0c6162": {
          "model_module": "@jupyter-widgets/controls",
          "model_name": "FloatProgressModel",
          "state": {
            "_view_name": "ProgressView",
            "style": "IPY_MODEL_280a139ac81748779e45146d75b1bef5",
            "_dom_classes": [],
            "description": "100%",
            "_model_name": "FloatProgressModel",
            "bar_style": "success",
            "max": 30,
            "_view_module": "@jupyter-widgets/controls",
            "_model_module_version": "1.5.0",
            "value": 30,
            "_view_count": null,
            "_view_module_version": "1.5.0",
            "orientation": "horizontal",
            "min": 0,
            "description_tooltip": null,
            "_model_module": "@jupyter-widgets/controls",
            "layout": "IPY_MODEL_1066acba1f52481d8b59cbff4cb1834e"
          }
        },
        "066b74d3af8d4f45aadac3c5d40f280c": {
          "model_module": "@jupyter-widgets/controls",
          "model_name": "HTMLModel",
          "state": {
            "_view_name": "HTMLView",
            "style": "IPY_MODEL_8e5c6b2f2b1747d2b31ae5bdb331f2e5",
            "_dom_classes": [],
            "description": "",
            "_model_name": "HTMLModel",
            "placeholder": "​",
            "_view_module": "@jupyter-widgets/controls",
            "_model_module_version": "1.5.0",
            "value": " 30/30 [26:50&lt;00:00, 53.68s/it]",
            "_view_count": null,
            "_view_module_version": "1.5.0",
            "description_tooltip": null,
            "_model_module": "@jupyter-widgets/controls",
            "layout": "IPY_MODEL_9371f60c280f46d39922add3be29ceb4"
          }
        },
        "280a139ac81748779e45146d75b1bef5": {
          "model_module": "@jupyter-widgets/controls",
          "model_name": "ProgressStyleModel",
          "state": {
            "_view_name": "StyleView",
            "_model_name": "ProgressStyleModel",
            "description_width": "initial",
            "_view_module": "@jupyter-widgets/base",
            "_model_module_version": "1.5.0",
            "_view_count": null,
            "_view_module_version": "1.2.0",
            "bar_color": null,
            "_model_module": "@jupyter-widgets/controls"
          }
        },
        "1066acba1f52481d8b59cbff4cb1834e": {
          "model_module": "@jupyter-widgets/base",
          "model_name": "LayoutModel",
          "state": {
            "_view_name": "LayoutView",
            "grid_template_rows": null,
            "right": null,
            "justify_content": null,
            "_view_module": "@jupyter-widgets/base",
            "overflow": null,
            "_model_module_version": "1.2.0",
            "_view_count": null,
            "flex_flow": null,
            "width": null,
            "min_width": null,
            "border": null,
            "align_items": null,
            "bottom": null,
            "_model_module": "@jupyter-widgets/base",
            "top": null,
            "grid_column": null,
            "overflow_y": null,
            "overflow_x": null,
            "grid_auto_flow": null,
            "grid_area": null,
            "grid_template_columns": null,
            "flex": null,
            "_model_name": "LayoutModel",
            "justify_items": null,
            "grid_row": null,
            "max_height": null,
            "align_content": null,
            "visibility": null,
            "align_self": null,
            "height": null,
            "min_height": null,
            "padding": null,
            "grid_auto_rows": null,
            "grid_gap": null,
            "max_width": null,
            "order": null,
            "_view_module_version": "1.2.0",
            "grid_template_areas": null,
            "object_position": null,
            "object_fit": null,
            "grid_auto_columns": null,
            "margin": null,
            "display": null,
            "left": null
          }
        },
        "8e5c6b2f2b1747d2b31ae5bdb331f2e5": {
          "model_module": "@jupyter-widgets/controls",
          "model_name": "DescriptionStyleModel",
          "state": {
            "_view_name": "StyleView",
            "_model_name": "DescriptionStyleModel",
            "description_width": "",
            "_view_module": "@jupyter-widgets/base",
            "_model_module_version": "1.5.0",
            "_view_count": null,
            "_view_module_version": "1.2.0",
            "_model_module": "@jupyter-widgets/controls"
          }
        },
        "9371f60c280f46d39922add3be29ceb4": {
          "model_module": "@jupyter-widgets/base",
          "model_name": "LayoutModel",
          "state": {
            "_view_name": "LayoutView",
            "grid_template_rows": null,
            "right": null,
            "justify_content": null,
            "_view_module": "@jupyter-widgets/base",
            "overflow": null,
            "_model_module_version": "1.2.0",
            "_view_count": null,
            "flex_flow": null,
            "width": null,
            "min_width": null,
            "border": null,
            "align_items": null,
            "bottom": null,
            "_model_module": "@jupyter-widgets/base",
            "top": null,
            "grid_column": null,
            "overflow_y": null,
            "overflow_x": null,
            "grid_auto_flow": null,
            "grid_area": null,
            "grid_template_columns": null,
            "flex": null,
            "_model_name": "LayoutModel",
            "justify_items": null,
            "grid_row": null,
            "max_height": null,
            "align_content": null,
            "visibility": null,
            "align_self": null,
            "height": null,
            "min_height": null,
            "padding": null,
            "grid_auto_rows": null,
            "grid_gap": null,
            "max_width": null,
            "order": null,
            "_view_module_version": "1.2.0",
            "grid_template_areas": null,
            "object_position": null,
            "object_fit": null,
            "grid_auto_columns": null,
            "margin": null,
            "display": null,
            "left": null
          }
        }
      }
    }
  },
  "cells": [
    {
      "cell_type": "markdown",
      "metadata": {
        "id": "view-in-github",
        "colab_type": "text"
      },
      "source": [
        "<a href=\"https://colab.research.google.com/github/abhishekshakya/BPSO-and-ANN-for-sofware-fault-predicition/blob/master/internPSO_ANN.ipynb\" target=\"_parent\"><img src=\"https://colab.research.google.com/assets/colab-badge.svg\" alt=\"Open In Colab\"/></a>"
      ]
    },
    {
      "cell_type": "code",
      "metadata": {
        "id": "rEeWd-D127SW",
        "colab_type": "code",
        "colab": {
          "base_uri": "https://localhost:8080/",
          "height": 122
        },
        "outputId": "8bb0e8c2-acfb-45da-faa8-aa12b46667d8"
      },
      "source": [
        "from google.colab import drive\n",
        "drive.mount('/content/drive/')\n",
        "#https://ieeexplore.ieee.org/abstract/document/8011255\n",
        "#from SVM https://www.youtube.com/watch?v=_PwhiWxHK8o"
      ],
      "execution_count": 2,
      "outputs": [
        {
          "output_type": "stream",
          "text": [
            "Go to this URL in a browser: https://accounts.google.com/o/oauth2/auth?client_id=947318989803-6bn6qk8qdgf4n4g3pfee6491hc0brc4i.apps.googleusercontent.com&redirect_uri=urn%3aietf%3awg%3aoauth%3a2.0%3aoob&scope=email%20https%3a%2f%2fwww.googleapis.com%2fauth%2fdocs.test%20https%3a%2f%2fwww.googleapis.com%2fauth%2fdrive%20https%3a%2f%2fwww.googleapis.com%2fauth%2fdrive.photos.readonly%20https%3a%2f%2fwww.googleapis.com%2fauth%2fpeopleapi.readonly&response_type=code\n",
            "\n",
            "Enter your authorization code:\n",
            "··········\n",
            "Mounted at /content/drive/\n"
          ],
          "name": "stdout"
        }
      ]
    },
    {
      "cell_type": "code",
      "metadata": {
        "id": "uIPimctJLYPa",
        "colab_type": "code",
        "colab": {}
      },
      "source": [
        ""
      ],
      "execution_count": 35,
      "outputs": []
    },
    {
      "cell_type": "code",
      "metadata": {
        "id": "YRU2kzOi3Bed",
        "colab_type": "code",
        "colab": {}
      },
      "source": [
        "import pandas as pd\n",
        "import numpy as np\n",
        "import matplotlib.pyplot as plt\n",
        "import random\n",
        "from tqdm.notebook import tqdm\n",
        "from sklearn.metrics import roc_auc_score\n",
        "from sklearn.metrics import confusion_matrix\n",
        "from scipy.io import arff"
      ],
      "execution_count": 16,
      "outputs": []
    },
    {
      "cell_type": "code",
      "metadata": {
        "id": "fmjwa4N63BjW",
        "colab_type": "code",
        "colab": {}
      },
      "source": [
        "df_pc1 = pd.read_csv('/content/drive/My Drive/dataset/pc1.csv')\n",
        "df_kc1 = pd.read_csv('/content/drive/My Drive/dataset/kc1.csv')\n",
        "df_kc2 = pd.read_csv('/content/drive/My Drive/dataset/kc2.csv')\n",
        "df_jm1 = pd.read_csv('/content/drive/My Drive/dataset/jm1.csv')   "
      ],
      "execution_count": 2,
      "outputs": []
    },
    {
      "cell_type": "code",
      "metadata": {
        "id": "36DVlXKh3Bn7",
        "colab_type": "code",
        "colab": {}
      },
      "source": [
        ""
      ],
      "execution_count": 2,
      "outputs": []
    },
    {
      "cell_type": "markdown",
      "metadata": {
        "id": "oVZp3Cp_3LnV",
        "colab_type": "text"
      },
      "source": [
        "##Data cleaning\n",
        "\n",
        "#####For kc2, here y feature is in object type"
      ]
    },
    {
      "cell_type": "code",
      "metadata": {
        "id": "vVEhP_wj3Bsr",
        "colab_type": "code",
        "colab": {}
      },
      "source": [
        "#for kc2 here change output feature from object -> bool\n",
        "p = df_kc2['defects']\n",
        "map = {'yes':True, 'no':False}\n",
        "df_kc2['defects'] = p.map(map)\n"
      ],
      "execution_count": 3,
      "outputs": []
    },
    {
      "cell_type": "code",
      "metadata": {
        "id": "-Hc12ms7P_0K",
        "colab_type": "code",
        "colab": {}
      },
      "source": [
        "def normalize(x):\n",
        "  x = x.astype(float)\n",
        "  min = np.min(x)\n",
        "  max = np.max(x)\n",
        "  return (x - min)/(max-min)"
      ],
      "execution_count": 54,
      "outputs": []
    },
    {
      "cell_type": "markdown",
      "metadata": {
        "id": "p2OBilrb3Uqu",
        "colab_type": "text"
      },
      "source": [
        "####For jm1, we have '?' randomly distributed so we need to remove them also"
      ]
    },
    {
      "cell_type": "code",
      "metadata": {
        "id": "hGjD1HNb3Bxp",
        "colab_type": "code",
        "colab": {}
      },
      "source": [
        "d1,d2,d3,d4,d5 = df_jm1.iloc[:,16], df_jm1.iloc[:,17], df_jm1.iloc[:,18], df_jm1.iloc[:,19], df_jm1.iloc[:,20]\n",
        "\n",
        "for i in range(len(d1)):\n",
        "  if (str)(d1[i]) == '?' or (str)(d2[i]) == '?' or (str)(d3[i]) == '?' or (str)(d4[i]) == '?' or (str)(d5[i]) == '?':\n",
        "    df_jm1.drop(i,inplace=True)\n",
        "    i -= 1\n"
      ],
      "execution_count": 5,
      "outputs": []
    },
    {
      "cell_type": "code",
      "metadata": {
        "id": "f-aYTls43B27",
        "colab_type": "code",
        "colab": {}
      },
      "source": [
        "# print(x_real)\n",
        "# print(y_real)"
      ],
      "execution_count": null,
      "outputs": []
    },
    {
      "cell_type": "code",
      "metadata": {
        "id": "BLprVuM_3B8E",
        "colab_type": "code",
        "colab": {}
      },
      "source": [
        "import torch\n",
        "import torch.nn as nn\n",
        "import torch.optim as optim\n",
        "import torch.nn.functional as F"
      ],
      "execution_count": 6,
      "outputs": []
    },
    {
      "cell_type": "code",
      "metadata": {
        "id": "bkk86avm3B-2",
        "colab_type": "code",
        "colab": {}
      },
      "source": [
        "class ANN(nn.Module):\n",
        "  def __init__(self,features, nodes1, nodes2):\n",
        "    super().__init__()\n",
        "    self.l1 = nn.Linear(features, nodes1)\n",
        "    self.l2 = nn.Linear(nodes1, nodes2)\n",
        "    self.l3 = nn.Linear(nodes2 ,1)\n",
        "\n",
        "  def forward(self,x):\n",
        "    x = F.relu(self.l1(x))\n",
        "    x = F.relu(self.l2(x))\n",
        "    x = (self.l3(x))\n",
        "    return torch.sigmoid((x))\n",
        "\n",
        "class network:\n",
        "  def __init__(self, nodes1, nodes2, dim, r):\n",
        "    \"\"\"nodes = number of neural nodes in first layer\n",
        "       dim = number of features\n",
        "       r = learning rate\n",
        "      \"\"\"\n",
        "    self.ANN = ANN(dim, nodes1, nodes2)\n",
        "    self.optim = optim.Adam(self.ANN.parameters(), lr=r)\n",
        "    self.criterion = nn.BCELoss()\n",
        "\n",
        "  def fit(self, x, y, iterations):\n",
        "    ANN = self.ANN\n",
        "    optimizer = self.optim\n",
        "    criterion = self.criterion\n",
        "    x = torch.from_numpy(x).float()\n",
        "    y = torch.from_numpy(y).float()\n",
        "    # y = y.reshape(y.shape[0],1)\n",
        "\n",
        "    for i in (range(iterations)):\n",
        "\n",
        "      optimizer.zero_grad()\n",
        "    \n",
        "      y_pred = ANN(x)\n",
        "      y_pred = y_pred.squeeze()\n",
        "      loss = criterion(y_pred, y)\n",
        "\n",
        "      loss.backward()\n",
        "      optimizer.step()\n",
        "      \n",
        "      # if i%((int)(iterations*0.05)) == 0:\n",
        "      #   print(f\"epoch {i}/{iterations}| loss=>{loss.item()}\")\n",
        "  \n",
        "  def predict(self, x):\n",
        "    ANN = self.ANN\n",
        "    x = torch.from_numpy(x).float()\n",
        "    y_ = ANN(x)\n",
        "    y_ = y_.reshape(y_.shape[0])\n",
        "    y_res = []\n",
        "    for i in range(len(y_)):\n",
        "      if y_[i] >= 0.5 :\n",
        "        y_res.append(1)\n",
        "      else:\n",
        "        y_res.append(0)\n",
        "    return y_res"
      ],
      "execution_count": 7,
      "outputs": []
    },
    {
      "cell_type": "code",
      "metadata": {
        "id": "VJ5Y1bPm3CM5",
        "colab_type": "code",
        "colab": {}
      },
      "source": [
        "class PSO:\n",
        "  def __init__(self,particles, dimensions, lb, ub, itrations, c1, c2, w, xr, yr, node1, node2, lr, epochs):\n",
        "    self.node1 = node1\n",
        "    self.node2 = node2\n",
        "    self.lr = lr\n",
        "    self.epochs = epochs\n",
        "    self.xr = xr\n",
        "    self.yr = yr\n",
        "    self.lb = lb\n",
        "    self.ub = ub\n",
        "    self.p = particles\n",
        "    self.d = dimensions\n",
        "    self.n = itrations\n",
        "    self.c1 = c1\n",
        "    self.c2 = c2\n",
        "    self.w = w\n",
        "    self.fitness_value = np.zeros(particles)#p\n",
        "    self.X = np.random.randint(0,2,(particles,dimensions))#pxd\n",
        "    self.V = np.random.randint(0,2,(particles,dimensions))#pxd\n",
        "    self.pbest = self.X#pxd\n",
        "    self.gbest = np.zeros(dimensions)#d\n",
        "    #---initialiastion-------------------------\n",
        "    max = 0\n",
        "    for i in range(self.p):\n",
        "      fit = self.fitness(self.X[i])\n",
        "      self.fitness_value[i] = fit\n",
        "      if max < fit:\n",
        "        max = fit\n",
        "        self.gbest = self.X[i]\n",
        "    #-------------------------------------------\n",
        "    self.maxg = max\n",
        "    self.run()\n",
        "\n",
        "  def sigmoid(self,x):\n",
        "    return 1/(1+np.exp(-x))\n",
        "  \n",
        "  def count(self,x):\n",
        "    c = np.sum(x)\n",
        "    return c\n",
        "\n",
        "  def fitness(self,x):\n",
        "    x_train = []\n",
        "    y_train = self.yr\n",
        "\n",
        "    for i in range(self.d):\n",
        "      if x[i] == 1:\n",
        "        x_train.append(self.xr[:,i])\n",
        "\n",
        "    x_train = np.array(x_train).reshape((self.xr.shape[0],-1))\n",
        "\n",
        "    if x_train.shape[1] == 0:#no feature selected then return 0 acc\n",
        "      return 0\n",
        "\n",
        "    net = network(self.node1,self.node2, x_train.shape[1], self.lr)\n",
        "    net.fit(x_train, y_train, self.epochs)\n",
        "    ans = net.predict(x_train)\n",
        "\n",
        "    acc = ((ans==y_train).sum()*1.0)/len(ans)\n",
        "    return acc\n",
        "\n",
        "  def run(self):\n",
        "    for itr in tqdm(range(self.n)):\n",
        "      for i in range(self.p):\n",
        "        fit = self.fitness(self.X[i])\n",
        "        if fit > self.fitness_value[i]:\n",
        "          self.pbest[i] = self.X[i]\n",
        "          self.fitness_value[i] = fit\n",
        "\n",
        "        if fit > self.maxg:\n",
        "          self.gbest = self.X[i]\n",
        "          self.maxg = fit\n",
        "\n",
        "        if fit == self.maxg and (self.count(self.X[i]) < self.count(self.gbest)):\n",
        "          self.gbest = self.X[i]\n",
        "\n",
        "      r1 = random.uniform(0,1)\n",
        "      r2 = random.uniform(0,1)\n",
        "      for p in range(self.p):\n",
        "        for q in range(self.d):\n",
        "          self.V[p][q] = self.w * self.V[p][q] + self.c1*r1*(self.pbest[p][q] - self.X[p][q]) + self.c2*r2*(self.gbest[q] - self.X[p][q])\n",
        "\n",
        "          if self.V[p][q] > self.ub:\n",
        "            self.V[p][q] = self.ub\n",
        "          if self.V[p][q] < self.lb:\n",
        "            self.V[p][q] = self.ub\n",
        "\n",
        "          if self.sigmoid(self.V[p][q]) > random.uniform(0,1):\n",
        "            self.X[p][q] = 1\n",
        "          else:\n",
        "            self.X[p][q] = 0\n"
      ],
      "execution_count": 32,
      "outputs": []
    },
    {
      "cell_type": "code",
      "metadata": {
        "id": "V0qT_IJh3Cn-",
        "colab_type": "code",
        "colab": {}
      },
      "source": [
        "def get(p, lb, ub, it, c1, c2, w, node1, node2, lr, epochs, df):\n",
        "  x = df.iloc[:,:-1].apply(func= normalize, axis=0).values\n",
        "  y = df.iloc[:,-1].values.astype(int)\n",
        "\n",
        "  sep = (int)(x.shape[0] * 0.1)\n",
        "  x_train = x[:-sep, :]\n",
        "  y_train = y[:-sep]\n",
        "\n",
        "  x_test = x[sep:, :]\n",
        "  y_test = y[sep:]\n",
        "\n",
        "  pp = PSO(p,x_train.shape[1],lb,ub,it,c1,c2,w, x_train, y_train,node1,node2,lr,epochs)\n",
        "\n",
        "  ip = []\n",
        "  ip_test = []\n",
        "  op = y_train\n",
        "  for i in range(len(pp.gbest)):\n",
        "    if pp.gbest[i] == 1:\n",
        "      ip.append(x_train[:,i])\n",
        "      ip_test.append(x_test[:,i])\n",
        "  \n",
        "  ip = np.array(ip).reshape((x_train.shape[0],-1))\n",
        "  ip_test = np.array(ip_test).reshape((x_test.shape[0],-1))\n",
        "\n",
        "  #neural network\n",
        "  net1 = network(node1,node2, x_train.shape[1], lr)\n",
        "  net1.fit(x_train, y_train, epochs)\n",
        "  prediction1 = net1.predict(x_test)#no feature\n",
        "\n",
        "  net2 = network(node1,node2, ip.shape[1], lr)\n",
        "  net2.fit(ip, y_train, epochs)\n",
        "  prediction2 = net2.predict(ip_test)#feature selection\n",
        "  #------------------------------------------------\n",
        "\n",
        "  print(f\"number of features selected {sum(pp.gbest)}\")\n",
        "  print(f\"Feature selection accuracy->{100*(((prediction2==y_test).sum()*1.0)/len(y_test))}\")\n",
        "  print(f\"No Feature selection accuracy->{100*(((prediction1==y_test).sum()*1.0)/len(y_test))}\")"
      ],
      "execution_count": 37,
      "outputs": []
    },
    {
      "cell_type": "code",
      "metadata": {
        "id": "5gPGkQww3Cqo",
        "colab_type": "code",
        "colab": {
          "base_uri": "https://localhost:8080/",
          "height": 117,
          "referenced_widgets": [
            "2aceb59c71654d3bb0e8ee5fe1fe29fe",
            "2e0a0eb5b43b40f19be4e3d0ca2f1195",
            "18bce2699ee14d568390fcccfceab961",
            "d0b12ffc47fd4c6cab5175a75fd5cc86",
            "20c8934b0efc4ed58fcc095c5cafe915",
            "965dd2957f9a48348580ffddafd79482",
            "b4ab558bcad64e71ad0be07c6d34ff0f",
            "2ad59d9b6c594ab0b43efcf0631cf4c6"
          ]
        },
        "outputId": "ec0fe3c6-62c2-4c6e-d835-1b7a70955119"
      },
      "source": [
        "p = 50 #number of particles\n",
        "lb = 0 #min value after normalization\n",
        "ub = 1 #max value after normalization\n",
        "it = 30 #number of itrations\n",
        "c1 = 1.5 # coefficient 1\n",
        "c2 = 1.7 # coefficient 3\n",
        "w = 0.7 #intertia\n",
        "\n",
        "node1 = 16 #total number of nodes in layer1\n",
        "node2 = 8 #total number of nodes in layer2\n",
        "lr = 0.001 #learning rate\n",
        "epochs = 300 #epochs in ANN\n",
        "get(p,lb,ub,it,c1,c2,w,node1,node2,lr,epochs,df_pc1)"
      ],
      "execution_count": 38,
      "outputs": [
        {
          "output_type": "display_data",
          "data": {
            "application/vnd.jupyter.widget-view+json": {
              "model_id": "2aceb59c71654d3bb0e8ee5fe1fe29fe",
              "version_minor": 0,
              "version_major": 2
            },
            "text/plain": [
              "HBox(children=(FloatProgress(value=0.0, max=30.0), HTML(value='')))"
            ]
          },
          "metadata": {
            "tags": []
          }
        },
        {
          "output_type": "stream",
          "text": [
            "\n",
            "number of features selected 10\n",
            "Feature selection accuracy->100.0\n",
            "No Feature selection accuracy->99.69969969969969\n"
          ],
          "name": "stdout"
        }
      ]
    },
    {
      "cell_type": "code",
      "metadata": {
        "id": "Hj_stLHy3Ct1",
        "colab_type": "code",
        "colab": {
          "base_uri": "https://localhost:8080/",
          "height": 117,
          "referenced_widgets": [
            "f8359b58369a4629bf423801bacd2072",
            "8468b4ce219b4a09b403811d73c3e889",
            "47755aa75f0f420e8ce348ae661e3f4d",
            "369a053ace594e909a8680d900a9c5ba",
            "1c9200d48ecb43bb827bc1d8ccfc6ec8",
            "d0caf51936ad4562a5e445c7677d296b",
            "e3f43108422e4e9a893257e51b85be1c",
            "d4cba3e32a3a4374b4a8e703d7b66daa"
          ]
        },
        "outputId": "ab06bafd-f86a-4725-c67b-0910693a3692"
      },
      "source": [
        "get(p,lb,ub,it,c1,c2,w,node1,node2,lr,epochs,df_kc1)"
      ],
      "execution_count": 39,
      "outputs": [
        {
          "output_type": "display_data",
          "data": {
            "application/vnd.jupyter.widget-view+json": {
              "model_id": "f8359b58369a4629bf423801bacd2072",
              "version_minor": 0,
              "version_major": 2
            },
            "text/plain": [
              "HBox(children=(FloatProgress(value=0.0, max=30.0), HTML(value='')))"
            ]
          },
          "metadata": {
            "tags": []
          }
        },
        {
          "output_type": "stream",
          "text": [
            "\n",
            "number of features selected 12\n",
            "Feature selection accuracy->93.8388625592417\n",
            "No Feature selection accuracy->93.68088467614534\n"
          ],
          "name": "stdout"
        }
      ]
    },
    {
      "cell_type": "code",
      "metadata": {
        "id": "N5EtIeAs3Cxb",
        "colab_type": "code",
        "colab": {
          "base_uri": "https://localhost:8080/",
          "height": 117,
          "referenced_widgets": [
            "9ad23de3cbf74bbfbcd628352eb81f95",
            "232460c691b1473cb9cf5b98b48e7567",
            "52dee854ab034a98b9374a46a31e0a9e",
            "7c578a959696442793c6d9ffa0581533",
            "e9b6f71ec2f64ee6b8ba9e4c56aa2539",
            "a0adb68e65fb408b960c306ddd8977d0",
            "2f9206a3a6394520883e0e175927624e",
            "f63efef772b543aa920ff20c7b3573df"
          ]
        },
        "outputId": "c6c50fb7-7415-4767-810c-80ed22c6bd99"
      },
      "source": [
        "get(p,lb,ub,it,c1,c2,w,node1,node2,lr,epochs,df_kc2)"
      ],
      "execution_count": 40,
      "outputs": [
        {
          "output_type": "display_data",
          "data": {
            "application/vnd.jupyter.widget-view+json": {
              "model_id": "9ad23de3cbf74bbfbcd628352eb81f95",
              "version_minor": 0,
              "version_major": 2
            },
            "text/plain": [
              "HBox(children=(FloatProgress(value=0.0, max=30.0), HTML(value='')))"
            ]
          },
          "metadata": {
            "tags": []
          }
        },
        {
          "output_type": "stream",
          "text": [
            "\n",
            "number of features selected 12\n",
            "Feature selection accuracy->78.51063829787233\n",
            "No Feature selection accuracy->81.91489361702128\n"
          ],
          "name": "stdout"
        }
      ]
    },
    {
      "cell_type": "code",
      "metadata": {
        "id": "awgGhsRL3CSw",
        "colab_type": "code",
        "colab": {
          "base_uri": "https://localhost:8080/",
          "height": 117,
          "referenced_widgets": [
            "6ddf81c8d4e848fabe5c01373961ea1e",
            "4aad1bafe7494c0db50784027677c493",
            "6ff84e0f2483451dbf57aba61c0c6162",
            "066b74d3af8d4f45aadac3c5d40f280c",
            "280a139ac81748779e45146d75b1bef5",
            "1066acba1f52481d8b59cbff4cb1834e",
            "8e5c6b2f2b1747d2b31ae5bdb331f2e5",
            "9371f60c280f46d39922add3be29ceb4"
          ]
        },
        "outputId": "744ab93f-15ae-47f7-abab-97847bd1e58a"
      },
      "source": [
        "get(p,lb,ub,it,c1,c2,w,node1,node2,lr,epochs,df_jm1)"
      ],
      "execution_count": 56,
      "outputs": [
        {
          "output_type": "display_data",
          "data": {
            "application/vnd.jupyter.widget-view+json": {
              "model_id": "6ddf81c8d4e848fabe5c01373961ea1e",
              "version_minor": 0,
              "version_major": 2
            },
            "text/plain": [
              "HBox(children=(FloatProgress(value=0.0, max=30.0), HTML(value='')))"
            ]
          },
          "metadata": {
            "tags": []
          }
        },
        {
          "output_type": "stream",
          "text": [
            "\n",
            "number of features selected 17\n",
            "Feature selection accuracy->89.62418300653596\n",
            "No Feature selection accuracy->89.28717320261438\n"
          ],
          "name": "stdout"
        }
      ]
    },
    {
      "cell_type": "code",
      "metadata": {
        "id": "y43cZQ8R3CLQ",
        "colab_type": "code",
        "colab": {}
      },
      "source": [
        ""
      ],
      "execution_count": 56,
      "outputs": []
    },
    {
      "cell_type": "code",
      "metadata": {
        "id": "76NQeS-13CKB",
        "colab_type": "code",
        "colab": {}
      },
      "source": [
        ""
      ],
      "execution_count": null,
      "outputs": []
    },
    {
      "cell_type": "code",
      "metadata": {
        "id": "g3zRUxlr3CGx",
        "colab_type": "code",
        "colab": {}
      },
      "source": [
        ""
      ],
      "execution_count": null,
      "outputs": []
    },
    {
      "cell_type": "code",
      "metadata": {
        "id": "FVLyrsPm3CDw",
        "colab_type": "code",
        "colab": {}
      },
      "source": [
        ""
      ],
      "execution_count": null,
      "outputs": []
    },
    {
      "cell_type": "code",
      "metadata": {
        "id": "K5CSCvoT3B6E",
        "colab_type": "code",
        "colab": {}
      },
      "source": [
        ""
      ],
      "execution_count": null,
      "outputs": []
    },
    {
      "cell_type": "code",
      "metadata": {
        "id": "UgqKgFkF3B0a",
        "colab_type": "code",
        "colab": {}
      },
      "source": [
        ""
      ],
      "execution_count": null,
      "outputs": []
    },
    {
      "cell_type": "code",
      "metadata": {
        "id": "OKuf1tW43Bvw",
        "colab_type": "code",
        "colab": {}
      },
      "source": [
        ""
      ],
      "execution_count": null,
      "outputs": []
    },
    {
      "cell_type": "code",
      "metadata": {
        "id": "t7DwyoGO3Bqp",
        "colab_type": "code",
        "colab": {}
      },
      "source": [
        ""
      ],
      "execution_count": null,
      "outputs": []
    },
    {
      "cell_type": "code",
      "metadata": {
        "id": "0cTwZfZS3BmD",
        "colab_type": "code",
        "colab": {}
      },
      "source": [
        ""
      ],
      "execution_count": null,
      "outputs": []
    },
    {
      "cell_type": "code",
      "metadata": {
        "id": "zpr-Y_wG3Bhi",
        "colab_type": "code",
        "colab": {}
      },
      "source": [
        ""
      ],
      "execution_count": null,
      "outputs": []
    }
  ]
}