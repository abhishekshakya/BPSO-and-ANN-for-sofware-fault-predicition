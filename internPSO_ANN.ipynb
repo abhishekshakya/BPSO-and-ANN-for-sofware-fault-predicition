{
  "nbformat": 4,
  "nbformat_minor": 0,
  "metadata": {
    "colab": {
      "name": "internPSO_ANN.ipynb",
      "provenance": [],
      "authorship_tag": "ABX9TyMmD89b2nIlmDm3zmfhuPqk",
      "include_colab_link": true
    },
    "kernelspec": {
      "name": "python3",
      "display_name": "Python 3"
    },
    "widgets": {
      "application/vnd.jupyter.widget-state+json": {
        "443310a7a2754368adc5feae1c527a18": {
          "model_module": "@jupyter-widgets/controls",
          "model_name": "HBoxModel",
          "state": {
            "_view_name": "HBoxView",
            "_dom_classes": [],
            "_model_name": "HBoxModel",
            "_view_module": "@jupyter-widgets/controls",
            "_model_module_version": "1.5.0",
            "_view_count": null,
            "_view_module_version": "1.5.0",
            "box_style": "",
            "layout": "IPY_MODEL_fad9928ed4fb4f5c9fae077ed3b668ee",
            "_model_module": "@jupyter-widgets/controls",
            "children": [
              "IPY_MODEL_401b024a15464e95952eb9a9e18a7f8b",
              "IPY_MODEL_76733490796146b680bf1915c32b8e16"
            ]
          }
        },
        "fad9928ed4fb4f5c9fae077ed3b668ee": {
          "model_module": "@jupyter-widgets/base",
          "model_name": "LayoutModel",
          "state": {
            "_view_name": "LayoutView",
            "grid_template_rows": null,
            "right": null,
            "justify_content": null,
            "_view_module": "@jupyter-widgets/base",
            "overflow": null,
            "_model_module_version": "1.2.0",
            "_view_count": null,
            "flex_flow": null,
            "width": null,
            "min_width": null,
            "border": null,
            "align_items": null,
            "bottom": null,
            "_model_module": "@jupyter-widgets/base",
            "top": null,
            "grid_column": null,
            "overflow_y": null,
            "overflow_x": null,
            "grid_auto_flow": null,
            "grid_area": null,
            "grid_template_columns": null,
            "flex": null,
            "_model_name": "LayoutModel",
            "justify_items": null,
            "grid_row": null,
            "max_height": null,
            "align_content": null,
            "visibility": null,
            "align_self": null,
            "height": null,
            "min_height": null,
            "padding": null,
            "grid_auto_rows": null,
            "grid_gap": null,
            "max_width": null,
            "order": null,
            "_view_module_version": "1.2.0",
            "grid_template_areas": null,
            "object_position": null,
            "object_fit": null,
            "grid_auto_columns": null,
            "margin": null,
            "display": null,
            "left": null
          }
        },
        "401b024a15464e95952eb9a9e18a7f8b": {
          "model_module": "@jupyter-widgets/controls",
          "model_name": "FloatProgressModel",
          "state": {
            "_view_name": "ProgressView",
            "style": "IPY_MODEL_25e3fd4cda374928a0d62e7ce27e3df5",
            "_dom_classes": [],
            "description": "100%",
            "_model_name": "FloatProgressModel",
            "bar_style": "success",
            "max": 100,
            "_view_module": "@jupyter-widgets/controls",
            "_model_module_version": "1.5.0",
            "value": 100,
            "_view_count": null,
            "_view_module_version": "1.5.0",
            "orientation": "horizontal",
            "min": 0,
            "description_tooltip": null,
            "_model_module": "@jupyter-widgets/controls",
            "layout": "IPY_MODEL_babb08f954f249b9832ac4b2183bba7e"
          }
        },
        "76733490796146b680bf1915c32b8e16": {
          "model_module": "@jupyter-widgets/controls",
          "model_name": "HTMLModel",
          "state": {
            "_view_name": "HTMLView",
            "style": "IPY_MODEL_fb29d0ba4ea34889a45fc1615a87e839",
            "_dom_classes": [],
            "description": "",
            "_model_name": "HTMLModel",
            "placeholder": "​",
            "_view_module": "@jupyter-widgets/controls",
            "_model_module_version": "1.5.0",
            "value": " 100/100 [08:22&lt;00:00,  5.03s/it]",
            "_view_count": null,
            "_view_module_version": "1.5.0",
            "description_tooltip": null,
            "_model_module": "@jupyter-widgets/controls",
            "layout": "IPY_MODEL_f8ec9ca47f7a4f0294c7edc40c11d8d6"
          }
        },
        "25e3fd4cda374928a0d62e7ce27e3df5": {
          "model_module": "@jupyter-widgets/controls",
          "model_name": "ProgressStyleModel",
          "state": {
            "_view_name": "StyleView",
            "_model_name": "ProgressStyleModel",
            "description_width": "initial",
            "_view_module": "@jupyter-widgets/base",
            "_model_module_version": "1.5.0",
            "_view_count": null,
            "_view_module_version": "1.2.0",
            "bar_color": null,
            "_model_module": "@jupyter-widgets/controls"
          }
        },
        "babb08f954f249b9832ac4b2183bba7e": {
          "model_module": "@jupyter-widgets/base",
          "model_name": "LayoutModel",
          "state": {
            "_view_name": "LayoutView",
            "grid_template_rows": null,
            "right": null,
            "justify_content": null,
            "_view_module": "@jupyter-widgets/base",
            "overflow": null,
            "_model_module_version": "1.2.0",
            "_view_count": null,
            "flex_flow": null,
            "width": null,
            "min_width": null,
            "border": null,
            "align_items": null,
            "bottom": null,
            "_model_module": "@jupyter-widgets/base",
            "top": null,
            "grid_column": null,
            "overflow_y": null,
            "overflow_x": null,
            "grid_auto_flow": null,
            "grid_area": null,
            "grid_template_columns": null,
            "flex": null,
            "_model_name": "LayoutModel",
            "justify_items": null,
            "grid_row": null,
            "max_height": null,
            "align_content": null,
            "visibility": null,
            "align_self": null,
            "height": null,
            "min_height": null,
            "padding": null,
            "grid_auto_rows": null,
            "grid_gap": null,
            "max_width": null,
            "order": null,
            "_view_module_version": "1.2.0",
            "grid_template_areas": null,
            "object_position": null,
            "object_fit": null,
            "grid_auto_columns": null,
            "margin": null,
            "display": null,
            "left": null
          }
        },
        "fb29d0ba4ea34889a45fc1615a87e839": {
          "model_module": "@jupyter-widgets/controls",
          "model_name": "DescriptionStyleModel",
          "state": {
            "_view_name": "StyleView",
            "_model_name": "DescriptionStyleModel",
            "description_width": "",
            "_view_module": "@jupyter-widgets/base",
            "_model_module_version": "1.5.0",
            "_view_count": null,
            "_view_module_version": "1.2.0",
            "_model_module": "@jupyter-widgets/controls"
          }
        },
        "f8ec9ca47f7a4f0294c7edc40c11d8d6": {
          "model_module": "@jupyter-widgets/base",
          "model_name": "LayoutModel",
          "state": {
            "_view_name": "LayoutView",
            "grid_template_rows": null,
            "right": null,
            "justify_content": null,
            "_view_module": "@jupyter-widgets/base",
            "overflow": null,
            "_model_module_version": "1.2.0",
            "_view_count": null,
            "flex_flow": null,
            "width": null,
            "min_width": null,
            "border": null,
            "align_items": null,
            "bottom": null,
            "_model_module": "@jupyter-widgets/base",
            "top": null,
            "grid_column": null,
            "overflow_y": null,
            "overflow_x": null,
            "grid_auto_flow": null,
            "grid_area": null,
            "grid_template_columns": null,
            "flex": null,
            "_model_name": "LayoutModel",
            "justify_items": null,
            "grid_row": null,
            "max_height": null,
            "align_content": null,
            "visibility": null,
            "align_self": null,
            "height": null,
            "min_height": null,
            "padding": null,
            "grid_auto_rows": null,
            "grid_gap": null,
            "max_width": null,
            "order": null,
            "_view_module_version": "1.2.0",
            "grid_template_areas": null,
            "object_position": null,
            "object_fit": null,
            "grid_auto_columns": null,
            "margin": null,
            "display": null,
            "left": null
          }
        },
        "23d3ed04db134a269e8c6ca3986104b0": {
          "model_module": "@jupyter-widgets/controls",
          "model_name": "HBoxModel",
          "state": {
            "_view_name": "HBoxView",
            "_dom_classes": [],
            "_model_name": "HBoxModel",
            "_view_module": "@jupyter-widgets/controls",
            "_model_module_version": "1.5.0",
            "_view_count": null,
            "_view_module_version": "1.5.0",
            "box_style": "",
            "layout": "IPY_MODEL_f001846bb4174f659a92366c706402c4",
            "_model_module": "@jupyter-widgets/controls",
            "children": [
              "IPY_MODEL_8977b5cbda474b518b336663598a00b0",
              "IPY_MODEL_0c54de04b19a46739900d2d9bab9d50d"
            ]
          }
        },
        "f001846bb4174f659a92366c706402c4": {
          "model_module": "@jupyter-widgets/base",
          "model_name": "LayoutModel",
          "state": {
            "_view_name": "LayoutView",
            "grid_template_rows": null,
            "right": null,
            "justify_content": null,
            "_view_module": "@jupyter-widgets/base",
            "overflow": null,
            "_model_module_version": "1.2.0",
            "_view_count": null,
            "flex_flow": null,
            "width": null,
            "min_width": null,
            "border": null,
            "align_items": null,
            "bottom": null,
            "_model_module": "@jupyter-widgets/base",
            "top": null,
            "grid_column": null,
            "overflow_y": null,
            "overflow_x": null,
            "grid_auto_flow": null,
            "grid_area": null,
            "grid_template_columns": null,
            "flex": null,
            "_model_name": "LayoutModel",
            "justify_items": null,
            "grid_row": null,
            "max_height": null,
            "align_content": null,
            "visibility": null,
            "align_self": null,
            "height": null,
            "min_height": null,
            "padding": null,
            "grid_auto_rows": null,
            "grid_gap": null,
            "max_width": null,
            "order": null,
            "_view_module_version": "1.2.0",
            "grid_template_areas": null,
            "object_position": null,
            "object_fit": null,
            "grid_auto_columns": null,
            "margin": null,
            "display": null,
            "left": null
          }
        },
        "8977b5cbda474b518b336663598a00b0": {
          "model_module": "@jupyter-widgets/controls",
          "model_name": "FloatProgressModel",
          "state": {
            "_view_name": "ProgressView",
            "style": "IPY_MODEL_684351c2badf47ff869f366478fb14be",
            "_dom_classes": [],
            "description": "100%",
            "_model_name": "FloatProgressModel",
            "bar_style": "success",
            "max": 100,
            "_view_module": "@jupyter-widgets/controls",
            "_model_module_version": "1.5.0",
            "value": 100,
            "_view_count": null,
            "_view_module_version": "1.5.0",
            "orientation": "horizontal",
            "min": 0,
            "description_tooltip": null,
            "_model_module": "@jupyter-widgets/controls",
            "layout": "IPY_MODEL_5198c1fed82b4e01b59445da1b9f8faa"
          }
        },
        "0c54de04b19a46739900d2d9bab9d50d": {
          "model_module": "@jupyter-widgets/controls",
          "model_name": "HTMLModel",
          "state": {
            "_view_name": "HTMLView",
            "style": "IPY_MODEL_0d312a33f5af450abee40795399adcee",
            "_dom_classes": [],
            "description": "",
            "_model_name": "HTMLModel",
            "placeholder": "​",
            "_view_module": "@jupyter-widgets/controls",
            "_model_module_version": "1.5.0",
            "value": " 100/100 [05:38&lt;00:00,  3.39s/it]",
            "_view_count": null,
            "_view_module_version": "1.5.0",
            "description_tooltip": null,
            "_model_module": "@jupyter-widgets/controls",
            "layout": "IPY_MODEL_50fa2422e03b429abcdeebce7912044f"
          }
        },
        "684351c2badf47ff869f366478fb14be": {
          "model_module": "@jupyter-widgets/controls",
          "model_name": "ProgressStyleModel",
          "state": {
            "_view_name": "StyleView",
            "_model_name": "ProgressStyleModel",
            "description_width": "initial",
            "_view_module": "@jupyter-widgets/base",
            "_model_module_version": "1.5.0",
            "_view_count": null,
            "_view_module_version": "1.2.0",
            "bar_color": null,
            "_model_module": "@jupyter-widgets/controls"
          }
        },
        "5198c1fed82b4e01b59445da1b9f8faa": {
          "model_module": "@jupyter-widgets/base",
          "model_name": "LayoutModel",
          "state": {
            "_view_name": "LayoutView",
            "grid_template_rows": null,
            "right": null,
            "justify_content": null,
            "_view_module": "@jupyter-widgets/base",
            "overflow": null,
            "_model_module_version": "1.2.0",
            "_view_count": null,
            "flex_flow": null,
            "width": null,
            "min_width": null,
            "border": null,
            "align_items": null,
            "bottom": null,
            "_model_module": "@jupyter-widgets/base",
            "top": null,
            "grid_column": null,
            "overflow_y": null,
            "overflow_x": null,
            "grid_auto_flow": null,
            "grid_area": null,
            "grid_template_columns": null,
            "flex": null,
            "_model_name": "LayoutModel",
            "justify_items": null,
            "grid_row": null,
            "max_height": null,
            "align_content": null,
            "visibility": null,
            "align_self": null,
            "height": null,
            "min_height": null,
            "padding": null,
            "grid_auto_rows": null,
            "grid_gap": null,
            "max_width": null,
            "order": null,
            "_view_module_version": "1.2.0",
            "grid_template_areas": null,
            "object_position": null,
            "object_fit": null,
            "grid_auto_columns": null,
            "margin": null,
            "display": null,
            "left": null
          }
        },
        "0d312a33f5af450abee40795399adcee": {
          "model_module": "@jupyter-widgets/controls",
          "model_name": "DescriptionStyleModel",
          "state": {
            "_view_name": "StyleView",
            "_model_name": "DescriptionStyleModel",
            "description_width": "",
            "_view_module": "@jupyter-widgets/base",
            "_model_module_version": "1.5.0",
            "_view_count": null,
            "_view_module_version": "1.2.0",
            "_model_module": "@jupyter-widgets/controls"
          }
        },
        "50fa2422e03b429abcdeebce7912044f": {
          "model_module": "@jupyter-widgets/base",
          "model_name": "LayoutModel",
          "state": {
            "_view_name": "LayoutView",
            "grid_template_rows": null,
            "right": null,
            "justify_content": null,
            "_view_module": "@jupyter-widgets/base",
            "overflow": null,
            "_model_module_version": "1.2.0",
            "_view_count": null,
            "flex_flow": null,
            "width": null,
            "min_width": null,
            "border": null,
            "align_items": null,
            "bottom": null,
            "_model_module": "@jupyter-widgets/base",
            "top": null,
            "grid_column": null,
            "overflow_y": null,
            "overflow_x": null,
            "grid_auto_flow": null,
            "grid_area": null,
            "grid_template_columns": null,
            "flex": null,
            "_model_name": "LayoutModel",
            "justify_items": null,
            "grid_row": null,
            "max_height": null,
            "align_content": null,
            "visibility": null,
            "align_self": null,
            "height": null,
            "min_height": null,
            "padding": null,
            "grid_auto_rows": null,
            "grid_gap": null,
            "max_width": null,
            "order": null,
            "_view_module_version": "1.2.0",
            "grid_template_areas": null,
            "object_position": null,
            "object_fit": null,
            "grid_auto_columns": null,
            "margin": null,
            "display": null,
            "left": null
          }
        },
        "3c5bbba574344db783d443c49532beff": {
          "model_module": "@jupyter-widgets/controls",
          "model_name": "HBoxModel",
          "state": {
            "_view_name": "HBoxView",
            "_dom_classes": [],
            "_model_name": "HBoxModel",
            "_view_module": "@jupyter-widgets/controls",
            "_model_module_version": "1.5.0",
            "_view_count": null,
            "_view_module_version": "1.5.0",
            "box_style": "",
            "layout": "IPY_MODEL_8240470f74674214ba6443415a8dd296",
            "_model_module": "@jupyter-widgets/controls",
            "children": [
              "IPY_MODEL_0f4bced67a454f8bab896b784b1cc48c",
              "IPY_MODEL_098d903283df4cd783f8c6a3076a7dc4"
            ]
          }
        },
        "8240470f74674214ba6443415a8dd296": {
          "model_module": "@jupyter-widgets/base",
          "model_name": "LayoutModel",
          "state": {
            "_view_name": "LayoutView",
            "grid_template_rows": null,
            "right": null,
            "justify_content": null,
            "_view_module": "@jupyter-widgets/base",
            "overflow": null,
            "_model_module_version": "1.2.0",
            "_view_count": null,
            "flex_flow": null,
            "width": null,
            "min_width": null,
            "border": null,
            "align_items": null,
            "bottom": null,
            "_model_module": "@jupyter-widgets/base",
            "top": null,
            "grid_column": null,
            "overflow_y": null,
            "overflow_x": null,
            "grid_auto_flow": null,
            "grid_area": null,
            "grid_template_columns": null,
            "flex": null,
            "_model_name": "LayoutModel",
            "justify_items": null,
            "grid_row": null,
            "max_height": null,
            "align_content": null,
            "visibility": null,
            "align_self": null,
            "height": null,
            "min_height": null,
            "padding": null,
            "grid_auto_rows": null,
            "grid_gap": null,
            "max_width": null,
            "order": null,
            "_view_module_version": "1.2.0",
            "grid_template_areas": null,
            "object_position": null,
            "object_fit": null,
            "grid_auto_columns": null,
            "margin": null,
            "display": null,
            "left": null
          }
        },
        "0f4bced67a454f8bab896b784b1cc48c": {
          "model_module": "@jupyter-widgets/controls",
          "model_name": "FloatProgressModel",
          "state": {
            "_view_name": "ProgressView",
            "style": "IPY_MODEL_00d2f014cbe44fa79c6efafb9aee0a37",
            "_dom_classes": [],
            "description": "100%",
            "_model_name": "FloatProgressModel",
            "bar_style": "success",
            "max": 100,
            "_view_module": "@jupyter-widgets/controls",
            "_model_module_version": "1.5.0",
            "value": 100,
            "_view_count": null,
            "_view_module_version": "1.5.0",
            "orientation": "horizontal",
            "min": 0,
            "description_tooltip": null,
            "_model_module": "@jupyter-widgets/controls",
            "layout": "IPY_MODEL_b1fec52d09424ed3860355eb93617298"
          }
        },
        "098d903283df4cd783f8c6a3076a7dc4": {
          "model_module": "@jupyter-widgets/controls",
          "model_name": "HTMLModel",
          "state": {
            "_view_name": "HTMLView",
            "style": "IPY_MODEL_154aec2c95d44dc19ce398adeccff46a",
            "_dom_classes": [],
            "description": "",
            "_model_name": "HTMLModel",
            "placeholder": "​",
            "_view_module": "@jupyter-widgets/controls",
            "_model_module_version": "1.5.0",
            "value": " 100/100 [29:32&lt;00:00, 17.72s/it]",
            "_view_count": null,
            "_view_module_version": "1.5.0",
            "description_tooltip": null,
            "_model_module": "@jupyter-widgets/controls",
            "layout": "IPY_MODEL_359f6fbf81d6448fabe555f6378cdd2a"
          }
        },
        "00d2f014cbe44fa79c6efafb9aee0a37": {
          "model_module": "@jupyter-widgets/controls",
          "model_name": "ProgressStyleModel",
          "state": {
            "_view_name": "StyleView",
            "_model_name": "ProgressStyleModel",
            "description_width": "initial",
            "_view_module": "@jupyter-widgets/base",
            "_model_module_version": "1.5.0",
            "_view_count": null,
            "_view_module_version": "1.2.0",
            "bar_color": null,
            "_model_module": "@jupyter-widgets/controls"
          }
        },
        "b1fec52d09424ed3860355eb93617298": {
          "model_module": "@jupyter-widgets/base",
          "model_name": "LayoutModel",
          "state": {
            "_view_name": "LayoutView",
            "grid_template_rows": null,
            "right": null,
            "justify_content": null,
            "_view_module": "@jupyter-widgets/base",
            "overflow": null,
            "_model_module_version": "1.2.0",
            "_view_count": null,
            "flex_flow": null,
            "width": null,
            "min_width": null,
            "border": null,
            "align_items": null,
            "bottom": null,
            "_model_module": "@jupyter-widgets/base",
            "top": null,
            "grid_column": null,
            "overflow_y": null,
            "overflow_x": null,
            "grid_auto_flow": null,
            "grid_area": null,
            "grid_template_columns": null,
            "flex": null,
            "_model_name": "LayoutModel",
            "justify_items": null,
            "grid_row": null,
            "max_height": null,
            "align_content": null,
            "visibility": null,
            "align_self": null,
            "height": null,
            "min_height": null,
            "padding": null,
            "grid_auto_rows": null,
            "grid_gap": null,
            "max_width": null,
            "order": null,
            "_view_module_version": "1.2.0",
            "grid_template_areas": null,
            "object_position": null,
            "object_fit": null,
            "grid_auto_columns": null,
            "margin": null,
            "display": null,
            "left": null
          }
        },
        "154aec2c95d44dc19ce398adeccff46a": {
          "model_module": "@jupyter-widgets/controls",
          "model_name": "DescriptionStyleModel",
          "state": {
            "_view_name": "StyleView",
            "_model_name": "DescriptionStyleModel",
            "description_width": "",
            "_view_module": "@jupyter-widgets/base",
            "_model_module_version": "1.5.0",
            "_view_count": null,
            "_view_module_version": "1.2.0",
            "_model_module": "@jupyter-widgets/controls"
          }
        },
        "359f6fbf81d6448fabe555f6378cdd2a": {
          "model_module": "@jupyter-widgets/base",
          "model_name": "LayoutModel",
          "state": {
            "_view_name": "LayoutView",
            "grid_template_rows": null,
            "right": null,
            "justify_content": null,
            "_view_module": "@jupyter-widgets/base",
            "overflow": null,
            "_model_module_version": "1.2.0",
            "_view_count": null,
            "flex_flow": null,
            "width": null,
            "min_width": null,
            "border": null,
            "align_items": null,
            "bottom": null,
            "_model_module": "@jupyter-widgets/base",
            "top": null,
            "grid_column": null,
            "overflow_y": null,
            "overflow_x": null,
            "grid_auto_flow": null,
            "grid_area": null,
            "grid_template_columns": null,
            "flex": null,
            "_model_name": "LayoutModel",
            "justify_items": null,
            "grid_row": null,
            "max_height": null,
            "align_content": null,
            "visibility": null,
            "align_self": null,
            "height": null,
            "min_height": null,
            "padding": null,
            "grid_auto_rows": null,
            "grid_gap": null,
            "max_width": null,
            "order": null,
            "_view_module_version": "1.2.0",
            "grid_template_areas": null,
            "object_position": null,
            "object_fit": null,
            "grid_auto_columns": null,
            "margin": null,
            "display": null,
            "left": null
          }
        },
        "bded5b222649442bb92c8c0c03682a14": {
          "model_module": "@jupyter-widgets/controls",
          "model_name": "HBoxModel",
          "state": {
            "_view_name": "HBoxView",
            "_dom_classes": [],
            "_model_name": "HBoxModel",
            "_view_module": "@jupyter-widgets/controls",
            "_model_module_version": "1.5.0",
            "_view_count": null,
            "_view_module_version": "1.5.0",
            "box_style": "",
            "layout": "IPY_MODEL_9b46fc40ec414c629a645120a727e1e6",
            "_model_module": "@jupyter-widgets/controls",
            "children": [
              "IPY_MODEL_93543e38912542fda97cc1dee60e6e6a",
              "IPY_MODEL_7fbc290f34a54a609c1e33749437bfdc"
            ]
          }
        },
        "9b46fc40ec414c629a645120a727e1e6": {
          "model_module": "@jupyter-widgets/base",
          "model_name": "LayoutModel",
          "state": {
            "_view_name": "LayoutView",
            "grid_template_rows": null,
            "right": null,
            "justify_content": null,
            "_view_module": "@jupyter-widgets/base",
            "overflow": null,
            "_model_module_version": "1.2.0",
            "_view_count": null,
            "flex_flow": null,
            "width": null,
            "min_width": null,
            "border": null,
            "align_items": null,
            "bottom": null,
            "_model_module": "@jupyter-widgets/base",
            "top": null,
            "grid_column": null,
            "overflow_y": null,
            "overflow_x": null,
            "grid_auto_flow": null,
            "grid_area": null,
            "grid_template_columns": null,
            "flex": null,
            "_model_name": "LayoutModel",
            "justify_items": null,
            "grid_row": null,
            "max_height": null,
            "align_content": null,
            "visibility": null,
            "align_self": null,
            "height": null,
            "min_height": null,
            "padding": null,
            "grid_auto_rows": null,
            "grid_gap": null,
            "max_width": null,
            "order": null,
            "_view_module_version": "1.2.0",
            "grid_template_areas": null,
            "object_position": null,
            "object_fit": null,
            "grid_auto_columns": null,
            "margin": null,
            "display": null,
            "left": null
          }
        },
        "93543e38912542fda97cc1dee60e6e6a": {
          "model_module": "@jupyter-widgets/controls",
          "model_name": "FloatProgressModel",
          "state": {
            "_view_name": "ProgressView",
            "style": "IPY_MODEL_252fda9e4239415ab1844219384dde5f",
            "_dom_classes": [],
            "description": "100%",
            "_model_name": "FloatProgressModel",
            "bar_style": "success",
            "max": 100,
            "_view_module": "@jupyter-widgets/controls",
            "_model_module_version": "1.5.0",
            "value": 100,
            "_view_count": null,
            "_view_module_version": "1.5.0",
            "orientation": "horizontal",
            "min": 0,
            "description_tooltip": null,
            "_model_module": "@jupyter-widgets/controls",
            "layout": "IPY_MODEL_6b20603126464a26a72d0dae8d5f833e"
          }
        },
        "7fbc290f34a54a609c1e33749437bfdc": {
          "model_module": "@jupyter-widgets/controls",
          "model_name": "HTMLModel",
          "state": {
            "_view_name": "HTMLView",
            "style": "IPY_MODEL_443e16cbd9b14347a936ccfb890f3c51",
            "_dom_classes": [],
            "description": "",
            "_model_name": "HTMLModel",
            "placeholder": "​",
            "_view_module": "@jupyter-widgets/controls",
            "_model_module_version": "1.5.0",
            "value": " 100/100 [39:08&lt;00:00, 23.48s/it]",
            "_view_count": null,
            "_view_module_version": "1.5.0",
            "description_tooltip": null,
            "_model_module": "@jupyter-widgets/controls",
            "layout": "IPY_MODEL_c3a98a09950c423a9679fa7a88460705"
          }
        },
        "252fda9e4239415ab1844219384dde5f": {
          "model_module": "@jupyter-widgets/controls",
          "model_name": "ProgressStyleModel",
          "state": {
            "_view_name": "StyleView",
            "_model_name": "ProgressStyleModel",
            "description_width": "initial",
            "_view_module": "@jupyter-widgets/base",
            "_model_module_version": "1.5.0",
            "_view_count": null,
            "_view_module_version": "1.2.0",
            "bar_color": null,
            "_model_module": "@jupyter-widgets/controls"
          }
        },
        "6b20603126464a26a72d0dae8d5f833e": {
          "model_module": "@jupyter-widgets/base",
          "model_name": "LayoutModel",
          "state": {
            "_view_name": "LayoutView",
            "grid_template_rows": null,
            "right": null,
            "justify_content": null,
            "_view_module": "@jupyter-widgets/base",
            "overflow": null,
            "_model_module_version": "1.2.0",
            "_view_count": null,
            "flex_flow": null,
            "width": null,
            "min_width": null,
            "border": null,
            "align_items": null,
            "bottom": null,
            "_model_module": "@jupyter-widgets/base",
            "top": null,
            "grid_column": null,
            "overflow_y": null,
            "overflow_x": null,
            "grid_auto_flow": null,
            "grid_area": null,
            "grid_template_columns": null,
            "flex": null,
            "_model_name": "LayoutModel",
            "justify_items": null,
            "grid_row": null,
            "max_height": null,
            "align_content": null,
            "visibility": null,
            "align_self": null,
            "height": null,
            "min_height": null,
            "padding": null,
            "grid_auto_rows": null,
            "grid_gap": null,
            "max_width": null,
            "order": null,
            "_view_module_version": "1.2.0",
            "grid_template_areas": null,
            "object_position": null,
            "object_fit": null,
            "grid_auto_columns": null,
            "margin": null,
            "display": null,
            "left": null
          }
        },
        "443e16cbd9b14347a936ccfb890f3c51": {
          "model_module": "@jupyter-widgets/controls",
          "model_name": "DescriptionStyleModel",
          "state": {
            "_view_name": "StyleView",
            "_model_name": "DescriptionStyleModel",
            "description_width": "",
            "_view_module": "@jupyter-widgets/base",
            "_model_module_version": "1.5.0",
            "_view_count": null,
            "_view_module_version": "1.2.0",
            "_model_module": "@jupyter-widgets/controls"
          }
        },
        "c3a98a09950c423a9679fa7a88460705": {
          "model_module": "@jupyter-widgets/base",
          "model_name": "LayoutModel",
          "state": {
            "_view_name": "LayoutView",
            "grid_template_rows": null,
            "right": null,
            "justify_content": null,
            "_view_module": "@jupyter-widgets/base",
            "overflow": null,
            "_model_module_version": "1.2.0",
            "_view_count": null,
            "flex_flow": null,
            "width": null,
            "min_width": null,
            "border": null,
            "align_items": null,
            "bottom": null,
            "_model_module": "@jupyter-widgets/base",
            "top": null,
            "grid_column": null,
            "overflow_y": null,
            "overflow_x": null,
            "grid_auto_flow": null,
            "grid_area": null,
            "grid_template_columns": null,
            "flex": null,
            "_model_name": "LayoutModel",
            "justify_items": null,
            "grid_row": null,
            "max_height": null,
            "align_content": null,
            "visibility": null,
            "align_self": null,
            "height": null,
            "min_height": null,
            "padding": null,
            "grid_auto_rows": null,
            "grid_gap": null,
            "max_width": null,
            "order": null,
            "_view_module_version": "1.2.0",
            "grid_template_areas": null,
            "object_position": null,
            "object_fit": null,
            "grid_auto_columns": null,
            "margin": null,
            "display": null,
            "left": null
          }
        }
      }
    }
  },
  "cells": [
    {
      "cell_type": "markdown",
      "metadata": {
        "id": "view-in-github",
        "colab_type": "text"
      },
      "source": [
        "<a href=\"https://colab.research.google.com/github/abhishekshakya/BPSO-and-ANN-for-sofware-fault-predicition/blob/master/internPSO_ANN.ipynb\" target=\"_parent\"><img src=\"https://colab.research.google.com/assets/colab-badge.svg\" alt=\"Open In Colab\"/></a>"
      ]
    },
    {
      "cell_type": "code",
      "metadata": {
        "id": "rEeWd-D127SW",
        "outputId": "f5812e16-cd84-4d73-8ff0-d88c0d367705",
        "colab": {
          "base_uri": "https://localhost:8080/",
          "height": 34
        }
      },
      "source": [
        "from google.colab import drive\n",
        "drive.mount('/content/drive/')\n",
        "#https://ieeexplore.ieee.org/abstract/document/8011255\n",
        "#from SVM https://www.youtube.com/watch?v=_PwhiWxHK8o"
      ],
      "execution_count": 1,
      "outputs": [
        {
          "output_type": "stream",
          "text": [
            "Mounted at /content/drive/\n"
          ],
          "name": "stdout"
        }
      ]
    },
    {
      "cell_type": "code",
      "metadata": {
        "id": "uIPimctJLYPa"
      },
      "source": [
        "# !pip install -U skorch"
      ],
      "execution_count": null,
      "outputs": []
    },
    {
      "cell_type": "code",
      "metadata": {
        "id": "YRU2kzOi3Bed"
      },
      "source": [
        "import pandas as pd\n",
        "import numpy as np\n",
        "import matplotlib.pyplot as plt\n",
        "import random\n",
        "from tqdm.notebook import tqdm\n",
        "from sklearn import metrics\n",
        "from sklearn.metrics import confusion_matrix\n",
        "from scipy.io import arff\n",
        "from sklearn.model_selection import cross_val_score\n",
        "# from skorch import NeuralNetClassifier\n",
        "from sklearn.model_selection import KFold,StratifiedKFold\n",
        "from sklearn.ensemble import RandomForestClassifier\n",
        "from sklearn.neighbors import KNeighborsClassifier\n",
        "from sklearn.svm import SVC\n",
        "from sklearn.linear_model import LogisticRegression"
      ],
      "execution_count": 36,
      "outputs": []
    },
    {
      "cell_type": "code",
      "metadata": {
        "id": "fmjwa4N63BjW"
      },
      "source": [
        "df_pc1 = pd.read_csv('/content/drive/My Drive/dataset/pc1.csv')\n",
        "df_kc1 = pd.read_csv('/content/drive/My Drive/dataset/kc1.csv')\n",
        "df_kc2 = pd.read_csv('/content/drive/My Drive/dataset/kc2.csv')\n",
        "df_jm1 = pd.read_csv('/content/drive/My Drive/dataset/jm1.csv')   "
      ],
      "execution_count": 3,
      "outputs": []
    },
    {
      "cell_type": "code",
      "metadata": {
        "id": "36DVlXKh3Bn7"
      },
      "source": [
        ""
      ],
      "execution_count": 3,
      "outputs": []
    },
    {
      "cell_type": "markdown",
      "metadata": {
        "id": "oVZp3Cp_3LnV"
      },
      "source": [
        "##Data cleaning\n",
        "\n",
        "#####For kc2, here y feature is in object type"
      ]
    },
    {
      "cell_type": "code",
      "metadata": {
        "id": "vVEhP_wj3Bsr"
      },
      "source": [
        "#for kc2 here change output feature from object -> bool\n",
        "p = df_kc2['defects']\n",
        "map = {'yes':True, 'no':False}\n",
        "df_kc2['defects'] = p.map(map)\n"
      ],
      "execution_count": 4,
      "outputs": []
    },
    {
      "cell_type": "code",
      "metadata": {
        "id": "-Hc12ms7P_0K"
      },
      "source": [
        "def normalize(x):\n",
        "  x = x.astype(float)\n",
        "  min = np.min(x)\n",
        "  max = np.max(x)\n",
        "  return (x - min)/(max-min)"
      ],
      "execution_count": 5,
      "outputs": []
    },
    {
      "cell_type": "markdown",
      "metadata": {
        "id": "p2OBilrb3Uqu"
      },
      "source": [
        "####For jm1, we have '?' randomly distributed so we need to remove them also"
      ]
    },
    {
      "cell_type": "code",
      "metadata": {
        "id": "hGjD1HNb3Bxp"
      },
      "source": [
        "d1,d2,d3,d4,d5 = df_jm1.iloc[:,16], df_jm1.iloc[:,17], df_jm1.iloc[:,18], df_jm1.iloc[:,19], df_jm1.iloc[:,20]\n",
        "\n",
        "for i in range(len(d1)):\n",
        "  if (str)(d1[i]) == '?' or (str)(d2[i]) == '?' or (str)(d3[i]) == '?' or (str)(d4[i]) == '?' or (str)(d5[i]) == '?':\n",
        "    df_jm1.drop(i,inplace=True)\n",
        "    i -= 1\n"
      ],
      "execution_count": 6,
      "outputs": []
    },
    {
      "cell_type": "code",
      "metadata": {
        "id": "f-aYTls43B27"
      },
      "source": [
        "# print(x_real)\n",
        "# print(y_real)"
      ],
      "execution_count": 7,
      "outputs": []
    },
    {
      "cell_type": "code",
      "metadata": {
        "id": "VtgnFepAnlb1"
      },
      "source": [
        "# plt.hist(df_pc1['defects'].values)\n",
        "# c =  0\n",
        "# for i in df_pc1['defects'].values:\n",
        "#   if i == False:\n",
        "#     c += 1\n",
        "# print(c/len(df_pc1['defects'].values))"
      ],
      "execution_count": 8,
      "outputs": []
    },
    {
      "cell_type": "code",
      "metadata": {
        "id": "BLprVuM_3B8E"
      },
      "source": [
        "import torch\n",
        "import torch.nn as nn\n",
        "import torch.optim as optim\n",
        "import torch.nn.functional as F"
      ],
      "execution_count": 9,
      "outputs": []
    },
    {
      "cell_type": "code",
      "metadata": {
        "id": "bkk86avm3B-2"
      },
      "source": [
        "class ANN(nn.Module):\n",
        "  def __init__(self,features, nodes1, nodes2):\n",
        "    super().__init__()\n",
        "    self.l1 = nn.Linear(features, nodes1)\n",
        "    self.l2 = nn.Linear(nodes1, nodes2)\n",
        "    self.l3 = nn.Linear(nodes2 ,1)\n",
        "\n",
        "  def forward(self,x):\n",
        "    x = F.relu(self.l1(x))\n",
        "    x = F.relu(self.l2(x))\n",
        "    x = (self.l3(x))\n",
        "    return torch.sigmoid((x))\n",
        "\n",
        "class network:\n",
        "  def __init__(self, nodes1, nodes2, dim, r):\n",
        "    \"\"\"nodes = number of neural nodes in first layer\n",
        "       dim = number of features\n",
        "       r = learning rate\n",
        "      \"\"\"\n",
        "    self.ANN = ANN(dim, nodes1, nodes2)\n",
        "    self.optim = optim.Adam(self.ANN.parameters(), lr=r)\n",
        "    self.criterion = nn.BCELoss()\n",
        "\n",
        "  def fit(self, x, y, iterations):\n",
        "    ANN = self.ANN\n",
        "    optimizer = self.optim\n",
        "    criterion = self.criterion\n",
        "    x = torch.from_numpy(x).float()\n",
        "    y = torch.from_numpy(y).float()\n",
        "    # y = y.reshape(y.shape[0],1)\n",
        "    self.losses = []\n",
        "    for i in (range(iterations)):\n",
        "\n",
        "      optimizer.zero_grad()\n",
        "    \n",
        "      y_pred = ANN(x)\n",
        "      y_pred = y_pred.squeeze()\n",
        "      loss = criterion(y_pred, y)\n",
        "\n",
        "      loss.backward()\n",
        "      optimizer.step()\n",
        "      self.losses.append(loss.item())\n",
        "      # if i%((int)(iterations*0.05)) == 0:\n",
        "      #   print(f\"epoch {i}/{iterations}| loss=>{loss.item()}\")\n",
        "  \n",
        "  def predict(self, x):\n",
        "    ANN = self.ANN\n",
        "    x = torch.from_numpy(x).float()\n",
        "    y_ = ANN(x)\n",
        "    y_ = y_.reshape(y_.shape[0])\n",
        "    y_res = []\n",
        "    for i in range(len(y_)):\n",
        "      if y_[i] >= 0.5 :\n",
        "        y_res.append(1)\n",
        "      else:\n",
        "        y_res.append(0)\n",
        "    return y_res,y_.detach().cpu().numpy()"
      ],
      "execution_count": 10,
      "outputs": []
    },
    {
      "cell_type": "code",
      "metadata": {
        "id": "VJ5Y1bPm3CM5"
      },
      "source": [
        "class PSO:\n",
        "  def __init__(self,particles, dimensions, lb, ub, itrations, c1, c2, w, xr, yr, node1, node2, lr, epochs):\n",
        "    self.node1 = node1\n",
        "    self.node2 = node2\n",
        "    self.lr = lr\n",
        "    self.epochs = epochs\n",
        "    \n",
        "    self.xr = xr\n",
        "    self.yr = yr\n",
        "    self.lb = lb\n",
        "    self.ub = ub\n",
        "    self.p = particles\n",
        "    self.d = dimensions\n",
        "    self.n = itrations\n",
        "    self.c1 = c1\n",
        "    self.c2 = c2\n",
        "    self.w = w\n",
        "    self.fitness_value = np.zeros(particles)#p\n",
        "    self.X = np.random.randint(2,size=(particles,dimensions))#pxd\n",
        "    self.V = np.random.randint(2,size=(particles,dimensions))#pxd\n",
        "    self.pbest = self.X#pxd\n",
        "    self.gbest = np.zeros(dimensions)#d\n",
        "    max = 0\n",
        "    self.maxg = 0\n",
        "    self.run()\n",
        "\n",
        "  def sigmoid(self,x):\n",
        "    return 1/(1+np.exp(-x))\n",
        "  \n",
        "  def count(self,x):\n",
        "    c = np.sum(x)\n",
        "    return c\n",
        "\n",
        "  def fitness(self,x):\n",
        "    x_train = []\n",
        "    y_train = self.yr\n",
        "\n",
        "    for i in range(self.d):\n",
        "      if x[i] == 1:\n",
        "        x_train.append(self.xr[:,i])\n",
        "\n",
        "    x_train = np.array(x_train).reshape((self.xr.shape[0],-1))\n",
        "\n",
        "    if x_train.shape[1] == 0:#no feature selected then return 0 acc\n",
        "      return 0\n",
        "    #Stratified K Fold cross Validation-----------------------------------------------\n",
        "    kfold =StratifiedKFold(n_splits=10)\n",
        "    cc = 0\n",
        "    accs = []\n",
        "    for train_index, test_index in kfold.split(x_train, y_train):\n",
        "      cc += 1\n",
        "      x_train_fold = x_train[train_index] \n",
        "      y_train_fold = y_train[train_index] \n",
        "      x_test_fold = x_train[test_index] \n",
        "      y_test_fold = y_train[test_index]\n",
        "      # neural Networks --------------overfitting----------------\n",
        "      # net = network(self.node1,self.node2, x_train_fold.shape[1], self.lr)\n",
        "      # net.fit(x_train_fold, y_train_fold, self.epochs)\n",
        "      # ans,_ = net.predict(x_test_fold)\n",
        "      #----------------------------------------------------------\n",
        "      #---------KNN----------------------------------------------\n",
        "      clf = KNeighborsClassifier(2)\n",
        "      clf.fit(x_train_fold, y_train_fold)\n",
        "      ans = clf.predict(x_test_fold)\n",
        "      #-------------------------------------------------------------\n",
        "\n",
        "      acc = ((ans==y_test_fold).sum()*1.0)/len(ans)\n",
        "      accs.append(acc)\n",
        "\n",
        "    return np.array(accs).mean()\n",
        "\n",
        "  def run(self):\n",
        "    for itr in tqdm(range(self.n)):\n",
        "      if itr%5 == 0:\n",
        "        print(f\"iterations {itr} | max acc achieved {self.maxg} using {self.count(self.gbest)} features\")\n",
        "      for i in range(self.p):\n",
        "        fit = self.fitness(self.X[i])\n",
        "        if fit > self.fitness_value[i]:\n",
        "          self.pbest[i] = np.copy(self.X[i])\n",
        "          self.fitness_value[i] = fit\n",
        "\n",
        "        if fit > self.maxg:\n",
        "          self.gbest = np.copy(self.X[i])\n",
        "          self.maxg = fit\n",
        "\n",
        "        if fit == self.maxg and (self.count(self.X[i]) < self.count(self.gbest)):\n",
        "          self.gbest = np.copy(self.X[i])\n",
        "\n",
        "      for p in range(self.p):\n",
        "        for q in range(self.d):\n",
        "          r1 = np.random.randn()\n",
        "          r2 = np.random.randn()\n",
        "          self.V[p][q] = self.w * self.V[p][q] + self.c1*r1*(self.pbest[p][q] - self.X[p][q]) + self.c2*r2*(self.gbest[q] - self.X[p][q])\n",
        "\n",
        "          if self.V[p][q] > self.ub:\n",
        "            self.V[p][q] = self.ub\n",
        "          if self.V[p][q] < self.lb:\n",
        "            self.V[p][q] = self.lb\n",
        "\n",
        "          if self.sigmoid(self.V[p][q]) > np.random.uniform(0,1):\n",
        "            self.X[p][q] = 1\n",
        "          else:\n",
        "            self.X[p][q] = 0\n",
        "\n",
        "      if fit == 1.0: #stop when acc is 100\n",
        "          return\n",
        "        \n"
      ],
      "execution_count": null,
      "outputs": []
    },
    {
      "cell_type": "code",
      "metadata": {
        "id": "V0qT_IJh3Cn-"
      },
      "source": [
        "def get(p, lb, ub, it, c1, c2, w, node1, node2, lr, epochs, df):\n",
        "  x = df.iloc[:,:-1].apply(func= normalize, axis=0).values\n",
        "  y = df.iloc[:,-1].values.astype(int)\n",
        "\n",
        "  pp = PSO(p,x.shape[1],lb,ub,it,c1,c2,w, x, y,node1,node2,lr,epochs)\n",
        "\n",
        "  return pp\n",
        "\n",
        "def ROC_curve(df,node1, node2, lr, epochs, name, pp):\n",
        "  x = df.iloc[:,:-1].apply(func= normalize, axis=0).values\n",
        "  y = df.iloc[:,-1].values.astype(int)\n",
        "  x_ruc = []\n",
        "  for i in range(len(pp.gbest)):\n",
        "    if pp.gbest[i] == 1:\n",
        "      x_ruc.append(x[:,i])\n",
        "  \n",
        "  x_ruc = np.array(x_ruc).reshape((x.shape[0],-1))\n",
        "\n",
        "  # #------------------------------------------------ROC curve---------------------------------------\n",
        "  print(f\"for {name}\")\n",
        "  print(f\"number of features selected {x_ruc.shape[1]}\")\n",
        "\n",
        "  # clf = RandomForestClassifier()\n",
        "  # clf.fit(x_ruc,y)\n",
        "  # y2_prob = clf.predict_proba(x_ruc)\n",
        "\n",
        "  net = network(node1,node2, x_ruc.shape[1], lr)\n",
        "  net.fit(x_ruc, y, epochs)\n",
        "  prediction2, y2_prob = net.predict(x_ruc) \n",
        "  print(f\"accuracy->{100*(((prediction2==y).sum()*1.0)/len(y))}\")\n",
        "  # print(y2_prob)\n",
        "  fpr, tpr, _= metrics.roc_curve(y,y2_prob)\n",
        "  auc = metrics.roc_auc_score(y,y2_prob)\n",
        "  plt.title(\"ROC\")\n",
        "  plt.plot(fpr,tpr,label='auc: '+str(auc))\n",
        "  plt.legend(loc=4)\n",
        "  plt.show()\n",
        "  plt.title(\"Erorr Loss\")\n",
        "  plt.plot(net.losses)\n",
        "  plt.show()"
      ],
      "execution_count": null,
      "outputs": []
    },
    {
      "cell_type": "code",
      "metadata": {
        "id": "5gPGkQww3Cqo",
        "outputId": "1234d9a9-6272-4189-f7d9-149b49d5dca1",
        "colab": {
          "base_uri": "https://localhost:8080/",
          "height": 406,
          "referenced_widgets": [
            "443310a7a2754368adc5feae1c527a18",
            "fad9928ed4fb4f5c9fae077ed3b668ee",
            "401b024a15464e95952eb9a9e18a7f8b",
            "76733490796146b680bf1915c32b8e16",
            "25e3fd4cda374928a0d62e7ce27e3df5",
            "babb08f954f249b9832ac4b2183bba7e",
            "fb29d0ba4ea34889a45fc1615a87e839",
            "f8ec9ca47f7a4f0294c7edc40c11d8d6"
          ]
        }
      },
      "source": [
        "p = 20 #number of particles\n",
        "lb = -1 #min value for velocity \n",
        "ub = 1 #max value for velocity \n",
        "it = 100 #number of itrations\n",
        "c1 = 2 # coefficient 1\n",
        "c2 = 2 # coefficient 3\n",
        "w = 0.4 #inertia\n",
        "\n",
        "node1 = 4 #total number of nodes in layer1\n",
        "node2 = 2 #total number of nodes in layer2\n",
        "lr = 0.0016 #learning rate\n",
        "epochs = 50 #epochs in ANN\n",
        "pso = get(p,lb,ub,it,c1,c2,w,node1,node2,lr,epochs,df_pc1)"
      ],
      "execution_count": null,
      "outputs": [
        {
          "output_type": "display_data",
          "data": {
            "application/vnd.jupyter.widget-view+json": {
              "model_id": "443310a7a2754368adc5feae1c527a18",
              "version_minor": 0,
              "version_major": 2
            },
            "text/plain": [
              "HBox(children=(FloatProgress(value=0.0), HTML(value='')))"
            ]
          },
          "metadata": {
            "tags": []
          }
        },
        {
          "output_type": "stream",
          "text": [
            "iterations 0 | max acc achieved 0 using 0.0 features\n",
            "iterations 5 | max acc achieved 0.9314905814905815 using 8 features\n",
            "iterations 10 | max acc achieved 0.9314905814905815 using 8 features\n",
            "iterations 15 | max acc achieved 0.9387141687141687 using 11 features\n",
            "iterations 20 | max acc achieved 0.9387141687141687 using 11 features\n",
            "iterations 25 | max acc achieved 0.9387141687141687 using 11 features\n",
            "iterations 30 | max acc achieved 0.9387141687141687 using 11 features\n",
            "iterations 35 | max acc achieved 0.9387141687141687 using 11 features\n",
            "iterations 40 | max acc achieved 0.9387141687141687 using 11 features\n",
            "iterations 45 | max acc achieved 0.9387141687141687 using 11 features\n",
            "iterations 50 | max acc achieved 0.9387141687141687 using 11 features\n",
            "iterations 55 | max acc achieved 0.9387141687141687 using 11 features\n",
            "iterations 60 | max acc achieved 0.9387141687141687 using 11 features\n",
            "iterations 65 | max acc achieved 0.9387141687141687 using 11 features\n",
            "iterations 70 | max acc achieved 0.9387141687141687 using 11 features\n",
            "iterations 75 | max acc achieved 0.9396232596232597 using 11 features\n",
            "iterations 80 | max acc achieved 0.9396232596232597 using 11 features\n",
            "iterations 85 | max acc achieved 0.9396232596232597 using 11 features\n",
            "iterations 90 | max acc achieved 0.9396232596232597 using 11 features\n",
            "iterations 95 | max acc achieved 0.9396232596232597 using 11 features\n",
            "\n"
          ],
          "name": "stdout"
        }
      ]
    },
    {
      "cell_type": "code",
      "metadata": {
        "id": "PHSjLofCyhcR",
        "outputId": "f72aae3c-9eca-400b-ea13-de57409147b1",
        "colab": {
          "base_uri": "https://localhost:8080/",
          "height": 596
        }
      },
      "source": [
        "ROC_curve(df_pc1, 4, 2, 0.06, 200,\"pc1\",pso)"
      ],
      "execution_count": null,
      "outputs": [
        {
          "output_type": "stream",
          "text": [
            "for pc1\n",
            "number of features selected 11\n",
            "accuracy->94.22903516681696\n"
          ],
          "name": "stdout"
        },
        {
          "output_type": "display_data",
          "data": {
            "image/png": "[encoded data removed]",
            "text/plain": [
              "<Figure size 432x288 with 1 Axes>"
            ]
          },
          "metadata": {
            "tags": [],
            "needs_background": "light"
          }
        },
        {
          "output_type": "display_data",
          "data": {
            "image/png": "[encoded data removed]",
            "text/plain": [
              "<Figure size 432x288 with 1 Axes>"
            ]
          },
          "metadata": {
            "tags": [],
            "needs_background": "light"
          }
        }
      ]
    },
    {
      "cell_type": "code",
      "metadata": {
        "id": "Hj_stLHy3Ct1",
        "outputId": "5385b7b2-b3f9-4c96-dc3a-7c2b70085911",
        "colab": {
          "base_uri": "https://localhost:8080/",
          "height": 406,
          "referenced_widgets": [
            "23d3ed04db134a269e8c6ca3986104b0",
            "f001846bb4174f659a92366c706402c4",
            "8977b5cbda474b518b336663598a00b0",
            "0c54de04b19a46739900d2d9bab9d50d",
            "684351c2badf47ff869f366478fb14be",
            "5198c1fed82b4e01b59445da1b9f8faa",
            "0d312a33f5af450abee40795399adcee",
            "50fa2422e03b429abcdeebce7912044f"
          ]
        }
      },
      "source": [
        "pso2 = get(p,lb,ub,it,c1,c2,w,node1,node2,lr,epochs,df_kc1)"
      ],
      "execution_count": null,
      "outputs": [
        {
          "output_type": "display_data",
          "data": {
            "application/vnd.jupyter.widget-view+json": {
              "model_id": "23d3ed04db134a269e8c6ca3986104b0",
              "version_minor": 0,
              "version_major": 2
            },
            "text/plain": [
              "HBox(children=(FloatProgress(value=0.0), HTML(value='')))"
            ]
          },
          "metadata": {
            "tags": []
          }
        },
        {
          "output_type": "stream",
          "text": [
            "iterations 0 | max acc achieved 0 using 0.0 features\n",
            "iterations 5 | max acc achieved 0.8928187767998195 using 7 features\n",
            "iterations 10 | max acc achieved 0.8928187767998195 using 7 features\n",
            "iterations 15 | max acc achieved 0.9018122320018056 using 7 features\n",
            "iterations 20 | max acc achieved 0.9018122320018056 using 7 features\n",
            "iterations 25 | max acc achieved 0.9018122320018056 using 7 features\n",
            "iterations 30 | max acc achieved 0.9018122320018056 using 7 features\n",
            "iterations 35 | max acc achieved 0.9018122320018056 using 7 features\n",
            "iterations 40 | max acc achieved 0.9018122320018056 using 7 features\n",
            "iterations 45 | max acc achieved 0.9018122320018056 using 7 features\n",
            "iterations 50 | max acc achieved 0.9018122320018056 using 7 features\n",
            "iterations 55 | max acc achieved 0.9018122320018056 using 7 features\n",
            "iterations 60 | max acc achieved 0.9018122320018056 using 7 features\n",
            "iterations 65 | max acc achieved 0.9018122320018056 using 7 features\n",
            "iterations 70 | max acc achieved 0.9127849243962988 using 6 features\n",
            "iterations 75 | max acc achieved 0.9127849243962988 using 6 features\n",
            "iterations 80 | max acc achieved 0.9127849243962988 using 6 features\n",
            "iterations 85 | max acc achieved 0.9127849243962988 using 6 features\n",
            "iterations 90 | max acc achieved 0.9127849243962988 using 6 features\n",
            "iterations 95 | max acc achieved 0.9127849243962988 using 6 features\n",
            "\n"
          ],
          "name": "stdout"
        }
      ]
    },
    {
      "cell_type": "code",
      "metadata": {
        "id": "n8T1tveLygjB",
        "outputId": "edd3a3b9-707a-4d13-ebe5-9cedf5c48dab",
        "colab": {
          "base_uri": "https://localhost:8080/",
          "height": 596
        }
      },
      "source": [
        "ROC_curve(df_kc1, 4, 2, 0.006, 200,\"kc1\",pso2)"
      ],
      "execution_count": null,
      "outputs": [
        {
          "output_type": "stream",
          "text": [
            "for kc1\n",
            "number of features selected 6\n",
            "accuracy->84.54243717401611\n"
          ],
          "name": "stdout"
        },
        {
          "output_type": "display_data",
          "data": {
            "image/png": "[encoded data removed]",
            "text/plain": [
              "<Figure size 432x288 with 1 Axes>"
            ]
          },
          "metadata": {
            "tags": [],
            "needs_background": "light"
          }
        },
        {
          "output_type": "display_data",
          "data": {
            "image/png": "[encoded data removed]",
            "text/plain": [
              "<Figure size 432x288 with 1 Axes>"
            ]
          },
          "metadata": {
            "tags": [],
            "needs_background": "light"
          }
        }
      ]
    },
    {
      "cell_type": "code",
      "metadata": {
        "id": "N5EtIeAs3Cxb",
        "outputId": "c24eb4e7-9100-4f4e-d6c2-12eff9930d9d",
        "colab": {
          "base_uri": "https://localhost:8080/",
          "height": 406,
          "referenced_widgets": [
            "3c5bbba574344db783d443c49532beff",
            "8240470f74674214ba6443415a8dd296",
            "0f4bced67a454f8bab896b784b1cc48c",
            "098d903283df4cd783f8c6a3076a7dc4",
            "00d2f014cbe44fa79c6efafb9aee0a37",
            "b1fec52d09424ed3860355eb93617298",
            "154aec2c95d44dc19ce398adeccff46a",
            "359f6fbf81d6448fabe555f6378cdd2a"
          ]
        }
      },
      "source": [
        "pso3 = get(p,lb,ub,it,c1,c2,w,node1,node2,lr,epochs,df_kc2)"
      ],
      "execution_count": null,
      "outputs": [
        {
          "output_type": "display_data",
          "data": {
            "application/vnd.jupyter.widget-view+json": {
              "model_id": "3c5bbba574344db783d443c49532beff",
              "version_minor": 0,
              "version_major": 2
            },
            "text/plain": [
              "HBox(children=(FloatProgress(value=0.0), HTML(value='')))"
            ]
          },
          "metadata": {
            "tags": []
          }
        },
        {
          "output_type": "stream",
          "text": [
            "iterations 0 | max acc achieved 0 using 0.0 features\n",
            "iterations 5 | max acc achieved 0.8275036284470246 using 9 features\n",
            "iterations 10 | max acc achieved 0.8275036284470246 using 9 features\n",
            "iterations 15 | max acc achieved 0.8275036284470246 using 9 features\n",
            "iterations 20 | max acc achieved 0.8602685050798259 using 12 features\n",
            "iterations 25 | max acc achieved 0.8602685050798259 using 12 features\n",
            "iterations 30 | max acc achieved 0.8912191582002903 using 7 features\n",
            "iterations 35 | max acc achieved 0.8912191582002903 using 7 features\n",
            "iterations 40 | max acc achieved 0.8912191582002903 using 7 features\n",
            "iterations 45 | max acc achieved 0.8912191582002903 using 7 features\n",
            "iterations 50 | max acc achieved 0.8912191582002903 using 7 features\n",
            "iterations 55 | max acc achieved 0.8912191582002903 using 7 features\n",
            "iterations 60 | max acc achieved 0.8912191582002903 using 7 features\n",
            "iterations 65 | max acc achieved 0.8912191582002903 using 7 features\n",
            "iterations 70 | max acc achieved 0.8912191582002903 using 7 features\n",
            "iterations 75 | max acc achieved 0.8912191582002903 using 7 features\n",
            "iterations 80 | max acc achieved 0.9101233671988389 using 5 features\n",
            "iterations 85 | max acc achieved 0.9101233671988389 using 5 features\n",
            "iterations 90 | max acc achieved 0.9101233671988389 using 5 features\n",
            "iterations 95 | max acc achieved 0.9101233671988389 using 5 features\n",
            "\n"
          ],
          "name": "stdout"
        }
      ]
    },
    {
      "cell_type": "code",
      "metadata": {
        "id": "gzUsK-it2lSx",
        "outputId": "73ac29c5-6860-4e47-b3bc-a0202b26a848",
        "colab": {
          "base_uri": "https://localhost:8080/",
          "height": 596
        }
      },
      "source": [
        "ROC_curve(df_kc2, 4, 2, 0.06, 200,\"kc2\",pso3)"
      ],
      "execution_count": null,
      "outputs": [
        {
          "output_type": "stream",
          "text": [
            "for kc2\n",
            "number of features selected 5\n",
            "accuracy->92.72030651340997\n"
          ],
          "name": "stdout"
        },
        {
          "output_type": "display_data",
          "data": {
            "image/png": "[encoded data removed]",
            "text/plain": [
              "<Figure size 432x288 with 1 Axes>"
            ]
          },
          "metadata": {
            "tags": [],
            "needs_background": "light"
          }
        },
        {
          "output_type": "display_data",
          "data": {
            "image/png": "[encoded data removed]",
            "text/plain": [
              "<Figure size 432x288 with 1 Axes>"
            ]
          },
          "metadata": {
            "tags": [],
            "needs_background": "light"
          }
        }
      ]
    },
    {
      "cell_type": "code",
      "metadata": {
        "id": "awgGhsRL3CSw",
        "outputId": "997f97ac-d7f4-4165-ae3b-a19b31979892",
        "colab": {
          "base_uri": "https://localhost:8080/",
          "height": 406,
          "referenced_widgets": [
            "bded5b222649442bb92c8c0c03682a14",
            "9b46fc40ec414c629a645120a727e1e6",
            "93543e38912542fda97cc1dee60e6e6a",
            "7fbc290f34a54a609c1e33749437bfdc",
            "252fda9e4239415ab1844219384dde5f",
            "6b20603126464a26a72d0dae8d5f833e",
            "443e16cbd9b14347a936ccfb890f3c51",
            "c3a98a09950c423a9679fa7a88460705"
          ]
        }
      },
      "source": [
        "pso4 = get(p,lb,ub,it,c1,c2,w,node1,node2,lr,epochs,df_jm1)"
      ],
      "execution_count": null,
      "outputs": [
        {
          "output_type": "display_data",
          "data": {
            "application/vnd.jupyter.widget-view+json": {
              "model_id": "bded5b222649442bb92c8c0c03682a14",
              "version_minor": 0,
              "version_major": 2
            },
            "text/plain": [
              "HBox(children=(FloatProgress(value=0.0), HTML(value='')))"
            ]
          },
          "metadata": {
            "tags": []
          }
        },
        {
          "output_type": "stream",
          "text": [
            "iterations 0 | max acc achieved 0 using 0.0 features\n",
            "iterations 5 | max acc achieved 0.8773897058823531 using 9 features\n",
            "iterations 10 | max acc achieved 0.8773897058823531 using 9 features\n",
            "iterations 15 | max acc achieved 0.8773897058823531 using 9 features\n",
            "iterations 20 | max acc achieved 0.8773897058823531 using 9 features\n",
            "iterations 25 | max acc achieved 0.8773897058823531 using 9 features\n",
            "iterations 30 | max acc achieved 0.8773897058823531 using 9 features\n",
            "iterations 35 | max acc achieved 0.8856617647058822 using 8 features\n",
            "iterations 40 | max acc achieved 0.8856617647058822 using 8 features\n",
            "iterations 45 | max acc achieved 0.8856617647058822 using 8 features\n",
            "iterations 50 | max acc achieved 0.8856617647058822 using 8 features\n",
            "iterations 55 | max acc achieved 0.8856617647058822 using 8 features\n",
            "iterations 60 | max acc achieved 0.8856617647058822 using 8 features\n",
            "iterations 65 | max acc achieved 0.8856617647058822 using 8 features\n",
            "iterations 70 | max acc achieved 0.8856617647058822 using 8 features\n",
            "iterations 75 | max acc achieved 0.8856617647058822 using 8 features\n",
            "iterations 80 | max acc achieved 0.8944852941176469 using 10 features\n",
            "iterations 85 | max acc achieved 0.8944852941176469 using 10 features\n",
            "iterations 90 | max acc achieved 0.8944852941176469 using 10 features\n",
            "iterations 95 | max acc achieved 0.8944852941176469 using 10 features\n",
            "\n"
          ],
          "name": "stdout"
        }
      ]
    },
    {
      "cell_type": "code",
      "metadata": {
        "id": "y43cZQ8R3CLQ",
        "outputId": "3bb6560e-5f32-4c5f-dfc4-798adbc874ea",
        "colab": {
          "base_uri": "https://localhost:8080/",
          "height": 596
        }
      },
      "source": [
        "ROC_curve(df_jm1, 4, 2, 0.006, 800,\"jmq\",pso4)"
      ],
      "execution_count": null,
      "outputs": [
        {
          "output_type": "stream",
          "text": [
            "for jmq\n",
            "number of features selected 10\n",
            "accuracy->92.44485294117646\n"
          ],
          "name": "stdout"
        },
        {
          "output_type": "display_data",
          "data": {
            "image/png": "[encoded data removed]",
            "text/plain": [
              "<Figure size 432x288 with 1 Axes>"
            ]
          },
          "metadata": {
            "tags": [],
            "needs_background": "light"
          }
        },
        {
          "output_type": "display_data",
          "data": {
            "image/png": "[encoded data removed]",
            "text/plain": [
              "<Figure size 432x288 with 1 Axes>"
            ]
          },
          "metadata": {
            "tags": [],
            "needs_background": "light"
          }
        }
      ]
    },
    {
      "cell_type": "code",
      "metadata": {
        "id": "76NQeS-13CKB"
      },
      "source": [
        ""
      ],
      "execution_count": null,
      "outputs": []
    },
    {
      "cell_type": "code",
      "metadata": {
        "id": "g3zRUxlr3CGx"
      },
      "source": [
        "\n",
        "def get_ANN(df,node1, node2, lr, epochs, name):\n",
        "  x = df.iloc[:,:-1].apply(func= normalize, axis=0).values\n",
        "  y = df.iloc[:,-1].values.astype(int)\n",
        "\n",
        "  # #------------------------------------------------ROC curve---------------------------------------\n",
        "\n",
        "  net = network(node1,node2, x.shape[1], lr)\n",
        "  net.fit(x, y, epochs)\n",
        "  prediction2, y2_prob = net.predict(x) \n",
        "  print(f\"accuracy->{100*(((prediction2==y).sum()*1.0)/len(y))}\")\n",
        "  # print(y2_prob)\n",
        "  fpr, tpr, _= metrics.roc_curve(y,y2_prob)\n",
        "  auc = metrics.roc_auc_score(y,y2_prob)\n",
        "  plt.title(\"ROC\")\n",
        "  plt.plot(fpr,tpr,label='auc: '+str(auc))\n",
        "  plt.legend(loc=4)\n",
        "  plt.show()\n",
        "  plt.title(\"Erorr Loss\")\n",
        "  plt.plot(net.losses)\n",
        "  plt.show()"
      ],
      "execution_count": 11,
      "outputs": []
    },
    {
      "cell_type": "code",
      "metadata": {
        "id": "FVLyrsPm3CDw",
        "outputId": "a19a35cf-381f-493c-d69f-8505d71e396a",
        "colab": {
          "base_uri": "https://localhost:8080/",
          "height": 562
        }
      },
      "source": [
        "get_ANN(df_pc1,4,2,0.06,200,\"PC1\")"
      ],
      "execution_count": 14,
      "outputs": [
        {
          "output_type": "stream",
          "text": [
            "accuracy->93.05680793507665\n"
          ],
          "name": "stdout"
        },
        {
          "output_type": "display_data",
          "data": {
            "image/png": "[encoded data removed]",
            "text/plain": [
              "<Figure size 432x288 with 1 Axes>"
            ]
          },
          "metadata": {
            "tags": [],
            "needs_background": "light"
          }
        },
        {
          "output_type": "display_data",
          "data": {
            "image/png": "[encoded data removed]",
            "text/plain": [
              "<Figure size 432x288 with 1 Axes>"
            ]
          },
          "metadata": {
            "tags": [],
            "needs_background": "light"
          }
        }
      ]
    },
    {
      "cell_type": "code",
      "metadata": {
        "id": "K5CSCvoT3B6E",
        "outputId": "598b1220-1f1d-4c89-c83e-471ffe055677",
        "colab": {
          "base_uri": "https://localhost:8080/",
          "height": 562
        }
      },
      "source": [
        "get_ANN(df_kc1,4,2,0.06,200,\"KC1\")"
      ],
      "execution_count": 42,
      "outputs": [
        {
          "output_type": "stream",
          "text": [
            "accuracy->84.54243717401611\n"
          ],
          "name": "stdout"
        },
        {
          "output_type": "display_data",
          "data": {
            "image/png": "[encoded data removed]",
            "text/plain": [
              "<Figure size 432x288 with 1 Axes>"
            ]
          },
          "metadata": {
            "tags": [],
            "needs_background": "light"
          }
        },
        {
          "output_type": "display_data",
          "data": {
            "image/png": "[encoded data removed]",
            "text/plain": [
              "<Figure size 432x288 with 1 Axes>"
            ]
          },
          "metadata": {
            "tags": [],
            "needs_background": "light"
          }
        }
      ]
    },
    {
      "cell_type": "code",
      "metadata": {
        "id": "UgqKgFkF3B0a",
        "outputId": "1cbdd04e-e758-44c0-f6fa-ef599c64fbc5",
        "colab": {
          "base_uri": "https://localhost:8080/",
          "height": 562
        }
      },
      "source": [
        "get_ANN(df_kc2,4,2,0.06,200,\"KC2\")"
      ],
      "execution_count": 21,
      "outputs": [
        {
          "output_type": "stream",
          "text": [
            "accuracy->86.20689655172413\n"
          ],
          "name": "stdout"
        },
        {
          "output_type": "display_data",
          "data": {
            "image/png": "[encoded data removed]",
            "text/plain": [
              "<Figure size 432x288 with 1 Axes>"
            ]
          },
          "metadata": {
            "tags": [],
            "needs_background": "light"
          }
        },
        {
          "output_type": "display_data",
          "data": {
            "image/png": "[encoded data removed]",
            "text/plain": [
              "<Figure size 432x288 with 1 Axes>"
            ]
          },
          "metadata": {
            "tags": [],
            "needs_background": "light"
          }
        }
      ]
    },
    {
      "cell_type": "code",
      "metadata": {
        "id": "OKuf1tW43Bvw",
        "outputId": "17ab1042-963c-45b8-e47b-e32e38649191",
        "colab": {
          "base_uri": "https://localhost:8080/",
          "height": 562
        }
      },
      "source": [
        "get_ANN(df_jm1,4,2,0.06,200,\"JM1\")"
      ],
      "execution_count": 22,
      "outputs": [
        {
          "output_type": "stream",
          "text": [
            "accuracy->80.76286764705883\n"
          ],
          "name": "stdout"
        },
        {
          "output_type": "display_data",
          "data": {
            "image/png": "[encoded data removed]",
            "text/plain": [
              "<Figure size 432x288 with 1 Axes>"
            ]
          },
          "metadata": {
            "tags": [],
            "needs_background": "light"
          }
        },
        {
          "output_type": "display_data",
          "data": {
            "image/png": "[encoded data removed]",
            "text/plain": [
              "<Figure size 432x288 with 1 Axes>"
            ]
          },
          "metadata": {
            "tags": [],
            "needs_background": "light"
          }
        }
      ]
    },
    {
      "cell_type": "code",
      "metadata": {
        "id": "t7DwyoGO3Bqp"
      },
      "source": [
        "\n",
        "\n",
        "def get_SVM(df):\n",
        "  x = df.iloc[:,:-1].apply(func= normalize, axis=0).values\n",
        "  y = df.iloc[:,-1].values.astype(int)\n",
        "\n",
        "  clf = SVC(probability=True)\n",
        "  clf.fit(x,y)\n",
        "  y2_prob = clf.predict_proba(x)\n",
        "\n",
        "  fpr, tpr, _= metrics.roc_curve(y,y2_prob[:,1])\n",
        "  auc = metrics.roc_auc_score(y,y2_prob[:,1])\n",
        "  plt.title(\"ROC\")\n",
        "  plt.plot(fpr,tpr,label='auc: '+str(auc))\n",
        "  plt.legend(loc=4)\n",
        "  plt.show()"
      ],
      "execution_count": 30,
      "outputs": []
    },
    {
      "cell_type": "code",
      "metadata": {
        "id": "0cTwZfZS3BmD",
        "outputId": "5936c75a-9491-469c-c522-dd06237339ac",
        "colab": {
          "base_uri": "https://localhost:8080/",
          "height": 281
        }
      },
      "source": [
        "get_SVM(df_pc1)"
      ],
      "execution_count": 31,
      "outputs": [
        {
          "output_type": "display_data",
          "data": {
            "image/png": "[encoded data removed]",
            "text/plain": [
              "<Figure size 432x288 with 1 Axes>"
            ]
          },
          "metadata": {
            "tags": [],
            "needs_background": "light"
          }
        }
      ]
    },
    {
      "cell_type": "code",
      "metadata": {
        "id": "zpr-Y_wG3Bhi",
        "outputId": "966c2bf7-5b82-443d-ae7d-80721399c93c",
        "colab": {
          "base_uri": "https://localhost:8080/",
          "height": 281
        }
      },
      "source": [
        "get_SVM(df_kc1)"
      ],
      "execution_count": 32,
      "outputs": [
        {
          "output_type": "display_data",
          "data": {
            "image/png": "[encoded data removed]",
            "text/plain": [
              "<Figure size 432x288 with 1 Axes>"
            ]
          },
          "metadata": {
            "tags": [],
            "needs_background": "light"
          }
        }
      ]
    },
    {
      "cell_type": "code",
      "metadata": {
        "id": "xqXb3hUlW61e",
        "outputId": "13cf9929-203d-4d44-fd5f-9eb03191d5b0",
        "colab": {
          "base_uri": "https://localhost:8080/",
          "height": 281
        }
      },
      "source": [
        "get_SVM(df_kc2)"
      ],
      "execution_count": 34,
      "outputs": [
        {
          "output_type": "display_data",
          "data": {
            "image/png": "[encoded data removed]",
            "text/plain": [
              "<Figure size 432x288 with 1 Axes>"
            ]
          },
          "metadata": {
            "tags": [],
            "needs_background": "light"
          }
        }
      ]
    },
    {
      "cell_type": "code",
      "metadata": {
        "id": "AzP6TT4zW_F1",
        "outputId": "71a4d930-515f-4f7d-a9e0-570325d5cf9d",
        "colab": {
          "base_uri": "https://localhost:8080/",
          "height": 281
        }
      },
      "source": [
        "get_SVM(df_jm1)"
      ],
      "execution_count": 35,
      "outputs": [
        {
          "output_type": "display_data",
          "data": {
            "image/png": "[encoded data removed]",
            "text/plain": [
              "<Figure size 432x288 with 1 Axes>"
            ]
          },
          "metadata": {
            "tags": [],
            "needs_background": "light"
          }
        }
      ]
    },
    {
      "cell_type": "code",
      "metadata": {
        "id": "DelPcncXXD5j"
      },
      "source": [
        "\n",
        "def get_log(df):\n",
        "  x = df.iloc[:,:-1].apply(func= normalize, axis=0).values\n",
        "  y = df.iloc[:,-1].values.astype(int)\n",
        "\n",
        "  clf = LogisticRegression()\n",
        "  clf.fit(x,y)\n",
        "  y2_prob = clf.predict_proba(x)\n",
        "\n",
        "  fpr, tpr, _= metrics.roc_curve(y,y2_prob[:,1])\n",
        "  auc = metrics.roc_auc_score(y,y2_prob[:,1])\n",
        "  plt.title(\"ROC\")\n",
        "  plt.plot(fpr,tpr,label='auc: '+str(auc))\n",
        "  plt.legend(loc=4)\n",
        "  plt.show()"
      ],
      "execution_count": 37,
      "outputs": []
    },
    {
      "cell_type": "code",
      "metadata": {
        "id": "6Hx7DzISY7am",
        "outputId": "ce5e022d-58fc-40aa-b5e5-8f0a012824d0",
        "colab": {
          "base_uri": "https://localhost:8080/",
          "height": 281
        }
      },
      "source": [
        "get_log(df_pc1)"
      ],
      "execution_count": 38,
      "outputs": [
        {
          "output_type": "display_data",
          "data": {
            "image/png": "[encoded data removed]",
            "text/plain": [
              "<Figure size 432x288 with 1 Axes>"
            ]
          },
          "metadata": {
            "tags": [],
            "needs_background": "light"
          }
        }
      ]
    },
    {
      "cell_type": "code",
      "metadata": {
        "id": "JtIW3xzGY-Q5",
        "outputId": "b396b855-9619-49af-b405-b771ad7e0742",
        "colab": {
          "base_uri": "https://localhost:8080/",
          "height": 281
        }
      },
      "source": [
        "get_log(df_kc1)"
      ],
      "execution_count": 39,
      "outputs": [
        {
          "output_type": "display_data",
          "data": {
            "image/png": "[encoded data removed]",
            "text/plain": [
              "<Figure size 432x288 with 1 Axes>"
            ]
          },
          "metadata": {
            "tags": [],
            "needs_background": "light"
          }
        }
      ]
    },
    {
      "cell_type": "code",
      "metadata": {
        "id": "S2I9Izr-ZB5z",
        "outputId": "7e9eee5a-f182-4ece-81f5-fccdd224ecc7",
        "colab": {
          "base_uri": "https://localhost:8080/",
          "height": 281
        }
      },
      "source": [
        "get_log(df_jm1)"
      ],
      "execution_count": 40,
      "outputs": [
        {
          "output_type": "display_data",
          "data": {
            "image/png": "[encoded data removed]",
            "text/plain": [
              "<Figure size 432x288 with 1 Axes>"
            ]
          },
          "metadata": {
            "tags": [],
            "needs_background": "light"
          }
        }
      ]
    },
    {
      "cell_type": "code",
      "metadata": {
        "id": "YwF9FsrGZEo_",
        "outputId": "d9bc63e3-c0bd-47bc-8930-68bc5038b5fe",
        "colab": {
          "base_uri": "https://localhost:8080/",
          "height": 281
        }
      },
      "source": [
        "get_log(df_kc2)"
      ],
      "execution_count": 41,
      "outputs": [
        {
          "output_type": "display_data",
          "data": {
            "image/png": "[encoded data removed]",
            "text/plain": [
              "<Figure size 432x288 with 1 Axes>"
            ]
          },
          "metadata": {
            "tags": [],
            "needs_background": "light"
          }
        }
      ]
    },
    {
      "cell_type": "code",
      "metadata": {
        "id": "P_H1Kii6ZIgP"
      },
      "source": [
        ""
      ],
      "execution_count": null,
      "outputs": []
    }
  ]
}